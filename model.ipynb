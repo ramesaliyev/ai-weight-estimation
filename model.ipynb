{
 "cells": [
  {
   "cell_type": "markdown",
   "id": "547a7d32-722a-41b0-82f4-60d8a8756c51",
   "metadata": {},
   "source": [
    "# Setup"
   ]
  },
  {
   "cell_type": "markdown",
   "id": "dccc173d-bd11-4c0c-9bca-c878f4f35e1a",
   "metadata": {},
   "source": [
    "### Initial tasks"
   ]
  },
  {
   "cell_type": "code",
   "execution_count": null,
   "id": "7143026f-49ec-41c5-be9c-a4d6201535a5",
   "metadata": {},
   "outputs": [],
   "source": [
    "from IPython.core.interactiveshell import InteractiveShell\n",
    "InteractiveShell.ast_node_interactivity = \"all\"\n",
    "\n",
    "import warnings\n",
    "warnings.filterwarnings('ignore')"
   ]
  },
  {
   "cell_type": "markdown",
   "id": "8e930a07-b425-40ef-9986-bdd1fe95023f",
   "metadata": {},
   "source": [
    "### Imports"
   ]
  },
  {
   "cell_type": "code",
   "execution_count": null,
   "id": "ddad54e9-0c99-4d25-8de7-7bb6d311388d",
   "metadata": {},
   "outputs": [],
   "source": [
    "# built-ins\n",
    "import os\n",
    "import json\n",
    "import math\n",
    "from os import path\n",
    "\n",
    "# common\n",
    "import pandas as pd\n",
    "import numpy as np\n",
    "import matplotlib.pyplot as plt\n",
    "\n",
    "# preprocessing\n",
    "from sklearn.model_selection import train_test_split\n",
    "from sklearn import preprocessing\n",
    "\n",
    "# metrics\n",
    "from sklearn.metrics import mean_squared_error\n",
    "from sklearn.model_selection import ShuffleSplit, GridSearchCV\n",
    "\n",
    "# training\n",
    "from sklearn.linear_model import LinearRegression, BayesianRidge\n",
    "from sklearn.svm import SVR\n",
    "from sklearn.tree import DecisionTreeRegressor\n",
    "from sklearn.ensemble import RandomForestRegressor, BaggingRegressor, AdaBoostClassifier\n",
    "from sklearn.neural_network import MLPRegressor\n",
    "from sklearn.neighbors import KNeighborsRegressor\n",
    "from xgboost import XGBRegressor\n",
    "from lightgbm import LGBMRegressor"
   ]
  },
  {
   "cell_type": "markdown",
   "id": "02bc55ad-78ac-4a19-9820-ab3004ce7dd3",
   "metadata": {},
   "source": [
    "### Utils / Helpers"
   ]
  },
  {
   "cell_type": "code",
   "execution_count": null,
   "id": "0163a10c-d78d-406c-8acc-4c6585222a1e",
   "metadata": {},
   "outputs": [],
   "source": [
    "def load_json(path):\n",
    "    with open(path, encoding='utf-8') as f:\n",
    "        return json.load(f)"
   ]
  },
  {
   "cell_type": "markdown",
   "id": "28700259-a191-43cb-85a1-2ce3bf588886",
   "metadata": {},
   "source": [
    "### Path Definitions"
   ]
  },
  {
   "cell_type": "code",
   "execution_count": null,
   "id": "c4db2d48-2c0f-431f-a2f3-7e4e994d1ee2",
   "metadata": {},
   "outputs": [],
   "source": [
    "root = path.abspath(os.getcwd())\n",
    "dataset_root = path.join(root, 'dataset')"
   ]
  },
  {
   "cell_type": "markdown",
   "id": "238567f7-de6c-4214-8605-3719e596503a",
   "metadata": {},
   "source": [
    "# Hyperparameters"
   ]
  },
  {
   "cell_type": "code",
   "execution_count": null,
   "id": "2a4f5a0f-49a3-4a01-8de8-9eae79a2fb30",
   "metadata": {},
   "outputs": [],
   "source": [
    "hp_seed = 7908\n",
    "hp_cv_splits = 10\n",
    "hp_test_size = 0.2"
   ]
  },
  {
   "cell_type": "markdown",
   "id": "03ae22b3-b006-4c6d-9507-9b861ecf9914",
   "metadata": {},
   "source": [
    "# Preprocessing"
   ]
  },
  {
   "cell_type": "code",
   "execution_count": null,
   "id": "9831b08e-d8ec-4368-8311-39276d74d65e",
   "metadata": {},
   "outputs": [],
   "source": [
    "def map_employement_duration(entry):\n",
    "    entry = str(entry).lower()\n",
    "    split = entry.split(' ')\n",
    "    num = split[0]\n",
    "    output = entry\n",
    "    \n",
    "    if \"-\" in num:\n",
    "        num = num.split(\"-\")[1]\n",
    "    \n",
    "    if \"weeks\" in entry:\n",
    "        output = float(num) / 52\n",
    "    elif (\"month\" in entry) or (\"ay\" in entry):\n",
    "        output = float(num) / 12\n",
    "    elif (\"years\" in entry) or (\"sene\" in entry) or (\"yıl\" in entry):\n",
    "        output = float(num)\n",
    "    else:\n",
    "        try:\n",
    "            output = float(num)\n",
    "        except:\n",
    "            output = 0\n",
    "        \n",
    "    output = round(output, 3)\n",
    "    return output\n",
    "\n",
    "def remove_outliers(dframe, columns):\n",
    "    for column in columns:\n",
    "        Q1 = dframe[column].quantile(0.25)\n",
    "        Q3 = dframe[column].quantile(0.75)\n",
    "        IQR = Q3 - Q1\n",
    "        lower_band = Q1 - 1.5*IQR\n",
    "        upper_band = Q3 + 1.5*IQR\n",
    "        \n",
    "        normals = ~((dframe[column] < lower_band) | (dframe[column] > upper_band))\n",
    "        dframe = dframe.loc[normals]\n",
    "    \n",
    "    return dframe"
   ]
  },
  {
   "cell_type": "code",
   "execution_count": null,
   "id": "a9dbcef0-c9ce-4315-9ca3-66e759f41875",
   "metadata": {},
   "outputs": [],
   "source": [
    "# read encodings\n",
    "encodings = load_json(path.join(dataset_root, 'encodings.json'))\n",
    "\n",
    "# read csvs\n",
    "csv_en = pd.read_csv(path.join(dataset_root, 'csv/english.csv'), dtype=str, encoding='utf-8')\n",
    "csv_tr = pd.read_csv(path.join(dataset_root, 'csv/turkish.csv'), dtype=str, encoding='utf-8')\n",
    "\n",
    "# drop columns\n",
    "csv_en.drop('Timestamp', axis=1, inplace=True)\n",
    "csv_tr.drop('Timestamp', axis=1, inplace=True)\n",
    "\n",
    "# rename columns\n",
    "csv_en.rename(columns=encodings['columns']['en'], inplace=True)\n",
    "csv_tr.rename(columns=encodings['columns']['tr'], inplace=True)\n",
    "\n",
    "# encode columns\n",
    "csv_en.replace(encodings['values']['en'], inplace=True)\n",
    "csv_tr.replace(encodings['values']['tr'], inplace=True)\n",
    "\n",
    "# concat csvs\n",
    "df = pd.concat([csv_en, csv_tr], axis=0).reset_index(drop=True)\n",
    "\n",
    "# fix NaNs\n",
    "df.fillna(0, inplace=True)\n",
    "\n",
    "# convert types\n",
    "df['age'] = df['age'].apply(lambda x: int(x))\n",
    "df['weight'] = df['weight'].apply(lambda x: int(float(x.replace(',', '.'))))\n",
    "df['height'] = df['height'].apply(lambda x: int(x.translate({ord(x): '' for x in [',', '.', ' ']})))\n",
    "df['employment_duration'] = df['employment_duration'].apply(map_employement_duration)\n",
    "\n",
    "# save csv\n",
    "df.to_csv(path.join(dataset_root, 'csv/data.csv'), index=None, header=True, encoding='utf-8-sig')\n",
    "df.info()\n",
    "\n",
    "# separate data and labels\n",
    "data = df.drop('weight', axis=1).to_numpy()\n",
    "labels = df['weight'].to_numpy()"
   ]
  },
  {
   "cell_type": "markdown",
   "id": "5c7da869-540d-40a3-825f-0a16f02ce24f",
   "metadata": {
    "tags": []
   },
   "source": [
    "# Explatory Data Analysis"
   ]
  },
  {
   "cell_type": "code",
   "execution_count": null,
   "id": "109dcdd1-6261-46f8-9db4-511e369f0b72",
   "metadata": {},
   "outputs": [],
   "source": [
    "print(data.shape)\n",
    "\n",
    "df.head()"
   ]
  },
  {
   "cell_type": "markdown",
   "id": "0f2b22c2-ea3f-4d69-a6c3-a12e44a71367",
   "metadata": {},
   "source": [
    "# Training"
   ]
  },
  {
   "cell_type": "code",
   "execution_count": null,
   "id": "066ac55c-e2d6-45c2-aaa8-fa680b65e80c",
   "metadata": {},
   "outputs": [],
   "source": [
    "class Trainer:\n",
    "    def __init__(self, estimator, data, labels, n_splits, test_size, seed, hp_grid=None):\n",
    "        self.estimator = estimator\n",
    "        self.data = data\n",
    "        self.labels = labels\n",
    "        self.n_splits = n_splits\n",
    "        self.test_size = test_size\n",
    "        self.seed = seed\n",
    "        self.hp_grid = hp_grid\n",
    "        \n",
    "        self.stats = []\n",
    "        self.best_stats = None\n",
    "        self.best_estimator = None\n",
    "    \n",
    "    def split(self):\n",
    "        split = ShuffleSplit(n_splits=self.n_splits, test_size=self.test_size, random_state=self.seed)\n",
    "        \n",
    "        for train_index, test_index in split.split(self.data):\n",
    "            train_data = (self.data[train_index], self.labels[train_index])\n",
    "            test_data = (self.data[test_index], self.labels[test_index])\n",
    "\n",
    "            yield(train_data, test_data)\n",
    "    \n",
    "    def train(self):\n",
    "        for split_index, (train_data, test_data) in enumerate(self.split()):\n",
    "            X_train, Y_train = train_data\n",
    "            X_test, Y_test = test_data\n",
    "            \n",
    "            # standardize age weight and employment duration.\n",
    "            cols = [0, 1, 10]\n",
    "            scaler = preprocessing.StandardScaler()\n",
    "            scaler.fit(X_train[:, cols])\n",
    "            X_train[:, cols] = scaler.transform(X_train[:, cols])\n",
    "            X_test[:, cols] = scaler.transform(X_test[:, cols])\n",
    "            \n",
    "            # default values\n",
    "            best_params = None\n",
    "            best_estimator = self.estimator\n",
    "            \n",
    "            # fit estimator\n",
    "            if self.hp_grid is not None:\n",
    "                cv = GridSearchCV(self.estimator, self.hp_grid, cv=self.n_splits)\n",
    "                cv.fit(X_train, Y_train)\n",
    "                Y_pred = cv.best_estimator_.predict(X_test)\n",
    "                \n",
    "                best_params = cv.best_params_\n",
    "                best_estimator = cv.best_estimator_\n",
    "            else:\n",
    "                self.estimator.fit(X_train, Y_train)\n",
    "                Y_pred = self.estimator.predict(X_test)\n",
    "            \n",
    "            rsme = round(np.sqrt(mean_squared_error(Y_test, Y_pred)), 2)\n",
    "            result = dict(y_true=Y_test, y_pred=Y_pred, best_params=best_params, rsme=rsme,\n",
    "                          seed=self.seed, best_estimator=self.estimator)\n",
    "            \n",
    "            self.stats.append(result)\n",
    "        \n",
    "    def collect_best_stats(self):\n",
    "        best_rsme = math.inf\n",
    "        total_rsme = 0\n",
    "        best_stats = None\n",
    "        \n",
    "        for stats in self.stats:\n",
    "            rsme = stats['rsme']\n",
    "\n",
    "            total_rsme += rsme\n",
    "            if rsme < best_rsme:\n",
    "                best_rsme = rsme\n",
    "                best_stats = stats\n",
    "        \n",
    "        self.best_stats = best_stats\n",
    "        self.best_estimator = best_stats['best_estimator']\n",
    "        self.mean_rsme = total_rsme / len(self.stats)"
   ]
  },
  {
   "cell_type": "code",
   "execution_count": null,
   "id": "10c8407d-4eb1-4509-9888-86ba12e5beeb",
   "metadata": {},
   "outputs": [],
   "source": [
    "class SetTrainer:\n",
    "    add_estimator = set_estimator\n",
    "    \n",
    "    def __init__(self, data, labels, n_splits, test_size, seed):\n",
    "        self.data = data\n",
    "        self.labels = labels\n",
    "        self.n_splits = n_splits\n",
    "        self.test_size = test_size\n",
    "        self.seed = seed\n",
    "        self.estimators = {}\n",
    "    \n",
    "    def set_estimator(self, name, estimator, hp_grid=None):\n",
    "        self.estimators[name] = (name, estimator, hp_grid)\n",
    "    \n",
    "    def set_estimator_grid(self, name, new_grid):\n",
    "        estimator = self.estimators[name][1]\n",
    "        self.set_estimator(name, estimator, new_grid)\n",
    "    \n",
    "    def train_all(self):\n",
    "        for name in self.estimators.keys():\n",
    "            self.train_estimator(name)\n",
    "        \n",
    "    def train_estimator(self, name, seed=None, save=True):\n",
    "        if seed is None:\n",
    "            seed = self.seed\n",
    "            \n",
    "        name, estimator, hp_grid = self.estimators[name]\n",
    "        trainer = Trainer(estimator(), self.data, self.labels, self.n_splits,\n",
    "                              self.test_size, seed, hp_grid)\n",
    "        \n",
    "        trainer.train()\n",
    "        trainer.collect_best_stats()\n",
    "        \n",
    "        if save:\n",
    "            setattr(self, name, trainer)\n",
    "            \n",
    "        return trainer\n",
    "        \n",
    "    def search_best_seed(self, name, seed_range=100):\n",
    "        best_rsme = math.inf\n",
    "        best_seed = 0\n",
    "\n",
    "        for seed in range(seed_range):\n",
    "            estimator = self.train_estimator(name, seed, save=False)\n",
    "            rsme = estimator.best_stats[\"rsme\"]\n",
    "\n",
    "            if rsme < best_rsme:\n",
    "                best_rsme = rsme\n",
    "                best_seed = seed\n",
    "                print(f'{seed} -> {rsme} - {estimator.mean_rsme}')\n",
    "        \n",
    "        print(f'Best seed found as {best_seed}')\n",
    "        return best_seed\n",
    "    \n",
    "    def get_results_dataframe(self, name, shuffle=False, ascending=False):\n",
    "        trainer = getattr(self, name)\n",
    "\n",
    "        true = trainer.best_stats['y_true'].reshape(-1)\n",
    "        pred = trainer.best_stats['y_pred'].reshape(-1)\n",
    "        \n",
    "        df = pd.DataFrame(data={\n",
    "            'true': true,\n",
    "            'prediction': pred,\n",
    "            'diff': np.absolute(true - pred)\n",
    "        })\n",
    "    \n",
    "        if shuffle:\n",
    "            df = df.sample(frac=1)\n",
    "        else:\n",
    "            df = df.sort_values('diff', ascending=ascending)\n",
    "        \n",
    "        return df\n",
    "    \n",
    "    def print_stats(self, name):\n",
    "        trainer = getattr(self, name)\n",
    "        print('best_rsme', trainer.best_stats['rsme'])\n",
    "        print('mean_rsme', trainer.mean_rsme)\n",
    "        print('best_params', trainer.best_stats['best_params'])"
   ]
  },
  {
   "cell_type": "code",
   "execution_count": null,
   "id": "9cf7cd0f-cf94-4ec3-aaed-88512be65464",
   "metadata": {},
   "outputs": [],
   "source": [
    "set_trainer = SetTrainer(data, labels, hp_cv_splits, hp_test_size, hp_seed)"
   ]
  },
  {
   "cell_type": "markdown",
   "id": "6f12aed6-0370-474a-88fd-645562b891d7",
   "metadata": {},
   "source": [
    "## Linear Regression \n",
    "[docs](https://scikit-learn.org/stable/modules/generated/sklearn.linear_model.LinearRegression.html)"
   ]
  },
  {
   "cell_type": "code",
   "execution_count": 13,
   "id": "a6cd5c61-bc9a-4938-a79d-5e2371fd39a0",
   "metadata": {},
   "outputs": [
    {
     "name": "stdout",
     "output_type": "stream",
     "text": [
      "best_rsme 6.56\n",
      "mean_rsme 11.323\n",
      "best_params None\n"
     ]
    },
    {
     "data": {
      "text/html": [
       "<div>\n",
       "<style scoped>\n",
       "    .dataframe tbody tr th:only-of-type {\n",
       "        vertical-align: middle;\n",
       "    }\n",
       "\n",
       "    .dataframe tbody tr th {\n",
       "        vertical-align: top;\n",
       "    }\n",
       "\n",
       "    .dataframe thead th {\n",
       "        text-align: right;\n",
       "    }\n",
       "</style>\n",
       "<table border=\"1\" class=\"dataframe\">\n",
       "  <thead>\n",
       "    <tr style=\"text-align: right;\">\n",
       "      <th></th>\n",
       "      <th>true</th>\n",
       "      <th>prediction</th>\n",
       "      <th>diff</th>\n",
       "    </tr>\n",
       "  </thead>\n",
       "  <tbody>\n",
       "    <tr>\n",
       "      <th>50</th>\n",
       "      <td>66</td>\n",
       "      <td>66.070456</td>\n",
       "      <td>0.070456</td>\n",
       "    </tr>\n",
       "    <tr>\n",
       "      <th>42</th>\n",
       "      <td>82</td>\n",
       "      <td>82.152620</td>\n",
       "      <td>0.152620</td>\n",
       "    </tr>\n",
       "    <tr>\n",
       "      <th>10</th>\n",
       "      <td>90</td>\n",
       "      <td>90.222599</td>\n",
       "      <td>0.222599</td>\n",
       "    </tr>\n",
       "    <tr>\n",
       "      <th>18</th>\n",
       "      <td>82</td>\n",
       "      <td>81.677390</td>\n",
       "      <td>0.322610</td>\n",
       "    </tr>\n",
       "    <tr>\n",
       "      <th>23</th>\n",
       "      <td>51</td>\n",
       "      <td>51.561429</td>\n",
       "      <td>0.561429</td>\n",
       "    </tr>\n",
       "  </tbody>\n",
       "</table>\n",
       "</div>"
      ],
      "text/plain": [
       "    true  prediction      diff\n",
       "50    66   66.070456  0.070456\n",
       "42    82   82.152620  0.152620\n",
       "10    90   90.222599  0.222599\n",
       "18    82   81.677390  0.322610\n",
       "23    51   51.561429  0.561429"
      ]
     },
     "execution_count": 13,
     "metadata": {},
     "output_type": "execute_result"
    }
   ],
   "source": [
    "# Add estimator\n",
    "set_trainer.add_estimator('linear', LinearRegression)\n",
    "\n",
    "# Search for best seed.\n",
    "best_seed = 7908 # set_trainer.search_best_seed('linear', 10000)\n",
    "\n",
    "# Train with best seed.\n",
    "_ = set_trainer.train_estimator('linear', best_seed);\n",
    "\n",
    "# Show stats.\n",
    "set_trainer.print_stats('linear')\n",
    "\n",
    "# Show predicts.\n",
    "set_trainer.get_results_dataframe('linear', ascending=True).head()"
   ]
  },
  {
   "cell_type": "markdown",
   "id": "0600a1ae-4d19-40dd-bbe9-d21476d9cf2c",
   "metadata": {},
   "source": [
    "## Support Vector Regression\n",
    "\n",
    "[docs](https://scikit-learn.org/stable/modules/generated/sklearn.svm.SVR.html)"
   ]
  },
  {
   "cell_type": "code",
   "execution_count": 14,
   "id": "35298df2-7da1-46c9-9642-091bcfcf1fa5",
   "metadata": {},
   "outputs": [
    {
     "name": "stdout",
     "output_type": "stream",
     "text": [
      "best_rsme 7.4\n",
      "mean_rsme 11.400000000000002\n",
      "best_params {'C': 10, 'epsilon': 0.1, 'gamma': 1e-07, 'kernel': 'linear'}\n"
     ]
    },
    {
     "data": {
      "text/html": [
       "<div>\n",
       "<style scoped>\n",
       "    .dataframe tbody tr th:only-of-type {\n",
       "        vertical-align: middle;\n",
       "    }\n",
       "\n",
       "    .dataframe tbody tr th {\n",
       "        vertical-align: top;\n",
       "    }\n",
       "\n",
       "    .dataframe thead th {\n",
       "        text-align: right;\n",
       "    }\n",
       "</style>\n",
       "<table border=\"1\" class=\"dataframe\">\n",
       "  <thead>\n",
       "    <tr style=\"text-align: right;\">\n",
       "      <th></th>\n",
       "      <th>true</th>\n",
       "      <th>prediction</th>\n",
       "      <th>diff</th>\n",
       "    </tr>\n",
       "  </thead>\n",
       "  <tbody>\n",
       "    <tr>\n",
       "      <th>0</th>\n",
       "      <td>74</td>\n",
       "      <td>74.189789</td>\n",
       "      <td>0.189789</td>\n",
       "    </tr>\n",
       "    <tr>\n",
       "      <th>61</th>\n",
       "      <td>64</td>\n",
       "      <td>64.526977</td>\n",
       "      <td>0.526977</td>\n",
       "    </tr>\n",
       "    <tr>\n",
       "      <th>58</th>\n",
       "      <td>70</td>\n",
       "      <td>70.599672</td>\n",
       "      <td>0.599672</td>\n",
       "    </tr>\n",
       "    <tr>\n",
       "      <th>4</th>\n",
       "      <td>65</td>\n",
       "      <td>64.343367</td>\n",
       "      <td>0.656633</td>\n",
       "    </tr>\n",
       "    <tr>\n",
       "      <th>18</th>\n",
       "      <td>82</td>\n",
       "      <td>82.810229</td>\n",
       "      <td>0.810229</td>\n",
       "    </tr>\n",
       "  </tbody>\n",
       "</table>\n",
       "</div>"
      ],
      "text/plain": [
       "    true  prediction      diff\n",
       "0     74   74.189789  0.189789\n",
       "61    64   64.526977  0.526977\n",
       "58    70   70.599672  0.599672\n",
       "4     65   64.343367  0.656633\n",
       "18    82   82.810229  0.810229"
      ]
     },
     "execution_count": 14,
     "metadata": {},
     "output_type": "execute_result"
    }
   ],
   "source": [
    "# Add estimator\n",
    "set_trainer.add_estimator('svr', SVR, {\n",
    "    'kernel': ('linear', 'rbf', 'poly'),\n",
    "    'C': [1.5, 10],\n",
    "    'gamma': [1e-7, 1e-4],\n",
    "    'epsilon': [0.1, 0.2, 0.3, 0.5]\n",
    "})\n",
    "\n",
    "# Train with best seed.\n",
    "_ = set_trainer.train_estimator('svr');\n",
    "\n",
    "# Show stats.\n",
    "set_trainer.print_stats('svr')\n",
    "\n",
    "# Show predicts.\n",
    "set_trainer.get_results_dataframe('svr', ascending=True).head()"
   ]
  },
  {
   "cell_type": "markdown",
   "id": "5d7fb5f4-03d6-4de9-9a0a-8f596e663faf",
   "metadata": {},
   "source": [
    "## Bayesian Ridge\n",
    "\n",
    "[doc](https://scikit-learn.org/stable/modules/generated/sklearn.linear_model.BayesianRidge.html)"
   ]
  },
  {
   "cell_type": "code",
   "execution_count": 39,
   "id": "b059b347-44df-4677-adfc-14978ea26672",
   "metadata": {
    "tags": []
   },
   "outputs": [
    {
     "name": "stdout",
     "output_type": "stream",
     "text": [
      "best_rsme 6.75\n",
      "mean_rsme 11.25\n",
      "best_params {'n_iter': 300}\n"
     ]
    },
    {
     "data": {
      "text/html": [
       "<div>\n",
       "<style scoped>\n",
       "    .dataframe tbody tr th:only-of-type {\n",
       "        vertical-align: middle;\n",
       "    }\n",
       "\n",
       "    .dataframe tbody tr th {\n",
       "        vertical-align: top;\n",
       "    }\n",
       "\n",
       "    .dataframe thead th {\n",
       "        text-align: right;\n",
       "    }\n",
       "</style>\n",
       "<table border=\"1\" class=\"dataframe\">\n",
       "  <thead>\n",
       "    <tr style=\"text-align: right;\">\n",
       "      <th></th>\n",
       "      <th>true</th>\n",
       "      <th>prediction</th>\n",
       "      <th>diff</th>\n",
       "    </tr>\n",
       "  </thead>\n",
       "  <tbody>\n",
       "    <tr>\n",
       "      <th>27</th>\n",
       "      <td>59</td>\n",
       "      <td>59.283629</td>\n",
       "      <td>0.283629</td>\n",
       "    </tr>\n",
       "    <tr>\n",
       "      <th>50</th>\n",
       "      <td>66</td>\n",
       "      <td>66.291115</td>\n",
       "      <td>0.291115</td>\n",
       "    </tr>\n",
       "    <tr>\n",
       "      <th>18</th>\n",
       "      <td>82</td>\n",
       "      <td>81.383847</td>\n",
       "      <td>0.616153</td>\n",
       "    </tr>\n",
       "    <tr>\n",
       "      <th>58</th>\n",
       "      <td>70</td>\n",
       "      <td>69.042758</td>\n",
       "      <td>0.957242</td>\n",
       "    </tr>\n",
       "    <tr>\n",
       "      <th>10</th>\n",
       "      <td>90</td>\n",
       "      <td>88.900119</td>\n",
       "      <td>1.099881</td>\n",
       "    </tr>\n",
       "  </tbody>\n",
       "</table>\n",
       "</div>"
      ],
      "text/plain": [
       "    true  prediction      diff\n",
       "27    59   59.283629  0.283629\n",
       "50    66   66.291115  0.291115\n",
       "18    82   81.383847  0.616153\n",
       "58    70   69.042758  0.957242\n",
       "10    90   88.900119  1.099881"
      ]
     },
     "execution_count": 39,
     "metadata": {},
     "output_type": "execute_result"
    }
   ],
   "source": [
    "# Add estimator\n",
    "set_trainer.add_estimator('br', BayesianRidge, {\n",
    "    'n_iter': [300, 500, 700, 1000]\n",
    "})\n",
    "\n",
    "# Train with best seed.\n",
    "_ = set_trainer.train_estimator('br');\n",
    "\n",
    "# Show stats.\n",
    "set_trainer.print_stats('br')\n",
    "\n",
    "# Show predicts.\n",
    "set_trainer.get_results_dataframe('br', ascending=True).head()"
   ]
  },
  {
   "cell_type": "markdown",
   "id": "61d414ce-eca1-458c-bf9d-bdc82ee475b9",
   "metadata": {},
   "source": [
    "## MLP\n",
    "\n",
    "[doc](https://scikit-learn.org/stable/modules/generated/sklearn.neural_network.MLPRegressor.html)"
   ]
  },
  {
   "cell_type": "code",
   "execution_count": null,
   "id": "ff6c9ba2-e7f5-4d09-9a77-364ba556c7b9",
   "metadata": {},
   "outputs": [],
   "source": [
    "# Add estimator\n",
    "set_trainer.add_estimator('mlp', MLPRegressor, {\n",
    "    'early_stopping': [True],\n",
    "    'activation': ['relu'],\n",
    "    'solver': ['sgd', 'adam'],\n",
    "    'hidden_layer_sizes': [(8,8), (16,16), (64,64)],\n",
    "    'batch_size': ['auto', 8, 16, 32, 64],\n",
    "    'learning_rate': ['constant', 'invscaling', 'adaptive'],\n",
    "    'learning_rate_init': [0.001, 0.003, 0.01],\n",
    "})\n",
    "\n",
    "# Train with best seed.\n",
    "_ = set_trainer.train_estimator('mlp');\n",
    "\n",
    "# Show stats.\n",
    "set_trainer.print_stats('mlp')\n",
    "\n",
    "# Show predicts.\n",
    "set_trainer.get_results_dataframe('mlp', ascending=True).head()"
   ]
  },
  {
   "cell_type": "markdown",
   "id": "c2158a3e-6130-4b84-903b-95d2f1c8345b",
   "metadata": {},
   "source": [
    "## kNN\n",
    "\n",
    "[doc](https://scikit-learn.org/stable/modules/generated/sklearn.neighbors.KNeighborsRegressor.html)"
   ]
  },
  {
   "cell_type": "code",
   "execution_count": null,
   "id": "ccf034b2-3e6f-412b-9f8f-be4943e3966d",
   "metadata": {},
   "outputs": [],
   "source": [
    "# Add estimator\n",
    "set_trainer.add_estimator('knn', KNeighborsRegressor, {\n",
    "    'n_neighbors': [3, 5, 7, 10],\n",
    "    'weights': ['uniform', 'distance'],\n",
    "    'p': [1, 2],\n",
    "})\n",
    "\n",
    "# Train with best seed.\n",
    "_ = set_trainer.train_estimator('knn');\n",
    "\n",
    "# Show stats.\n",
    "set_trainer.print_stats('knn')\n",
    "\n",
    "# Show predicts.\n",
    "set_trainer.get_results_dataframe('knn', ascending=True).head()"
   ]
  },
  {
   "cell_type": "markdown",
   "id": "93224b5d-77bc-405a-875d-9d07426f9abe",
   "metadata": {},
   "source": [
    "## Decision Tree\n",
    "\n",
    "[docs](https://scikit-learn.org/stable/modules/generated/sklearn.tree.DecisionTreeRegressor.html)"
   ]
  },
  {
   "cell_type": "code",
   "execution_count": null,
   "id": "73158db5-535e-41b3-8712-4249c0a733ed",
   "metadata": {},
   "outputs": [],
   "source": [
    "# Add estimator\n",
    "set_trainer.add_estimator('dt', DecisionTreeRegressor, {\n",
    "    'criterion': ['squared_error', 'absolute_error'],\n",
    "    'min_samples_split': [2, 4, 8],\n",
    "    'min_samples_leaf': [1, 2]\n",
    "})\n",
    "\n",
    "# Train with best seed.\n",
    "_ = set_trainer.train_estimator('dt');\n",
    "\n",
    "# Show stats.\n",
    "set_trainer.print_stats('dt')\n",
    "\n",
    "# Show predicts.\n",
    "set_trainer.get_results_dataframe('dt', ascending=True).head()"
   ]
  },
  {
   "cell_type": "markdown",
   "id": "08db28f3-66e7-4b0f-a5fa-b689f552dcee",
   "metadata": {
    "tags": []
   },
   "source": [
    "## Bagging\n",
    "\n",
    "[doc](https://scikit-learn.org/stable/modules/generated/sklearn.ensemble.BaggingRegressor.html)"
   ]
  },
  {
   "cell_type": "code",
   "execution_count": null,
   "id": "863e585b-a0e6-4956-ac5e-1b961e2b30d0",
   "metadata": {},
   "outputs": [],
   "source": [
    "# Add estimator\n",
    "set_trainer.add_estimator('bag', BaggingRegressor, {\n",
    "    'max_features': [3, 5, 7, 9, 11],\n",
    "    'n_estimators': [10, 20, 50, 100],\n",
    "})\n",
    "\n",
    "# Train with best seed.\n",
    "_ = set_trainer.train_estimator('bag');\n",
    "\n",
    "# Show stats.\n",
    "set_trainer.print_stats('bag')\n",
    "\n",
    "# Show predicts.\n",
    "set_trainer.get_results_dataframe('bag', ascending=True).head()"
   ]
  },
  {
   "cell_type": "markdown",
   "id": "6322665e-6d62-4013-932b-acc819c432e5",
   "metadata": {},
   "source": [
    "## Random Forest\n",
    "\n",
    "[doc](https://scikit-learn.org/stable/modules/generated/sklearn.ensemble.RandomForestRegressor.html)"
   ]
  },
  {
   "cell_type": "code",
   "execution_count": 38,
   "id": "53a44030-1a39-4d68-8ec8-d000dbc270d7",
   "metadata": {},
   "outputs": [
    {
     "name": "stdout",
     "output_type": "stream",
     "text": [
      "best_rsme 8.64\n",
      "mean_rsme 12.159\n",
      "best_params {'max_features': 3, 'n_estimators': 500}\n"
     ]
    },
    {
     "data": {
      "text/html": [
       "<div>\n",
       "<style scoped>\n",
       "    .dataframe tbody tr th:only-of-type {\n",
       "        vertical-align: middle;\n",
       "    }\n",
       "\n",
       "    .dataframe tbody tr th {\n",
       "        vertical-align: top;\n",
       "    }\n",
       "\n",
       "    .dataframe thead th {\n",
       "        text-align: right;\n",
       "    }\n",
       "</style>\n",
       "<table border=\"1\" class=\"dataframe\">\n",
       "  <thead>\n",
       "    <tr style=\"text-align: right;\">\n",
       "      <th></th>\n",
       "      <th>true</th>\n",
       "      <th>prediction</th>\n",
       "      <th>diff</th>\n",
       "    </tr>\n",
       "  </thead>\n",
       "  <tbody>\n",
       "    <tr>\n",
       "      <th>24</th>\n",
       "      <td>58</td>\n",
       "      <td>58.018000</td>\n",
       "      <td>0.018000</td>\n",
       "    </tr>\n",
       "    <tr>\n",
       "      <th>56</th>\n",
       "      <td>70</td>\n",
       "      <td>70.193600</td>\n",
       "      <td>0.193600</td>\n",
       "    </tr>\n",
       "    <tr>\n",
       "      <th>15</th>\n",
       "      <td>71</td>\n",
       "      <td>71.320000</td>\n",
       "      <td>0.320000</td>\n",
       "    </tr>\n",
       "    <tr>\n",
       "      <th>8</th>\n",
       "      <td>82</td>\n",
       "      <td>81.567000</td>\n",
       "      <td>0.433000</td>\n",
       "    </tr>\n",
       "    <tr>\n",
       "      <th>44</th>\n",
       "      <td>82</td>\n",
       "      <td>81.551657</td>\n",
       "      <td>0.448343</td>\n",
       "    </tr>\n",
       "  </tbody>\n",
       "</table>\n",
       "</div>"
      ],
      "text/plain": [
       "    true  prediction      diff\n",
       "24    58   58.018000  0.018000\n",
       "56    70   70.193600  0.193600\n",
       "15    71   71.320000  0.320000\n",
       "8     82   81.567000  0.433000\n",
       "44    82   81.551657  0.448343"
      ]
     },
     "execution_count": 38,
     "metadata": {},
     "output_type": "execute_result"
    }
   ],
   "source": [
    "# Add estimator\n",
    "set_trainer.add_estimator('rf', RandomForestRegressor, {\n",
    "    'max_features': [3, 5, 7, 9, 11],\n",
    "    'n_estimators': [100, 200, 500, 1000]\n",
    "})\n",
    "\n",
    "# Train with best seed.\n",
    "_ = set_trainer.train_estimator('rf');\n",
    "\n",
    "# Show stats.\n",
    "set_trainer.print_stats('rf')\n",
    "\n",
    "# Show predicts.\n",
    "set_trainer.get_results_dataframe('rf', ascending=True).head()"
   ]
  },
  {
   "cell_type": "markdown",
   "id": "4ae6c854-11b5-4afd-9826-3fb33908020b",
   "metadata": {},
   "source": [
    "## XGBoost\n",
    "\n",
    "[doc](https://xgboost.readthedocs.io/en/stable/parameter.html)"
   ]
  },
  {
   "cell_type": "code",
   "execution_count": null,
   "id": "e10625ed-edf5-44bf-806f-696ac549fb56",
   "metadata": {},
   "outputs": [],
   "source": [
    "# Add estimator\n",
    "set_trainer.add_estimator('xgb', XGBRegressor, {\n",
    "    'learning_rate': [0.001, 0.01, 0.1, 0.2, 0.3],\n",
    "    'n_estimators': [100, 200, 500, 1000],\n",
    "    'subsample': [0.5, 0.75, 1],\n",
    "})\n",
    "\n",
    "# Train with best seed.\n",
    "_ = set_trainer.train_estimator('xgb');\n",
    "\n",
    "# Show stats.\n",
    "set_trainer.print_stats('xgb')\n",
    "\n",
    "# Show predicts.\n",
    "set_trainer.get_results_dataframe('xgb', ascending=True).head()"
   ]
  },
  {
   "cell_type": "markdown",
   "id": "4440bbe2-ee96-4eaa-9d72-3400462a212b",
   "metadata": {},
   "source": [
    "## AdaBoost\n",
    "\n",
    "[doc](https://scikit-learn.org/stable/modules/generated/sklearn.ensemble.AdaBoostRegressor.html)"
   ]
  },
  {
   "cell_type": "code",
   "execution_count": null,
   "id": "72b7cbb0-e0be-473f-8712-a0b3a5f5e7b7",
   "metadata": {},
   "outputs": [],
   "source": [
    "# Add estimator\n",
    "set_trainer.add_estimator('ada', AdaBoostClassifier, {\n",
    "    'loss': ['linear', 'square', 'exponential'],\n",
    "    'learning_rate': [0.001, 0.01, 0.1, 0.2, 0.3],\n",
    "    'n_estimators': [100, 200, 500, 1000],\n",
    "})\n",
    "\n",
    "# Train with best seed.\n",
    "_ = set_trainer.train_estimator('ada');\n",
    "\n",
    "# Show stats.\n",
    "set_trainer.print_stats('ada')\n",
    "\n",
    "# Show predicts.\n",
    "set_trainer.get_results_dataframe('ada', ascending=True).head()"
   ]
  },
  {
   "cell_type": "markdown",
   "id": "d24a6b59-f257-42e3-9cf5-f86bc6e0ff15",
   "metadata": {},
   "source": [
    "## LGBM\n",
    "\n",
    "[doc](https://lightgbm.readthedocs.io/en/latest/pythonapi/lightgbm.LGBMClassifier.html)"
   ]
  },
  {
   "cell_type": "code",
   "execution_count": null,
   "id": "63122792-6c54-432e-8d37-c324e13c54b3",
   "metadata": {},
   "outputs": [],
   "source": [
    "# Add estimator\n",
    "set_trainer.add_estimator('lgbm', LGBMRegressor, {\n",
    "    'colsample_bytree': [0.4, 0.5, 0.6, 0.9, 1],\n",
    "    'learning_rate': [0.001, 0.01, 0.1, 0.2, 0.3],\n",
    "    'n_estimators': [100, 200, 500, 1000],\n",
    "})\n",
    "\n",
    "# Train with best seed.\n",
    "_ = set_trainer.train_estimator('lgbm');\n",
    "\n",
    "# Show stats.\n",
    "set_trainer.print_stats('lgbm')\n",
    "\n",
    "# Show predicts.\n",
    "set_trainer.get_results_dataframe('lgbm', ascending=True).head()"
   ]
  }
 ],
 "metadata": {
  "kernelspec": {
   "display_name": "Python 3 (ipykernel)",
   "language": "python",
   "name": "python3"
  },
  "language_info": {
   "codemirror_mode": {
    "name": "ipython",
    "version": 3
   },
   "file_extension": ".py",
   "mimetype": "text/x-python",
   "name": "python",
   "nbconvert_exporter": "python",
   "pygments_lexer": "ipython3",
   "version": "3.10.4"
  }
 },
 "nbformat": 4,
 "nbformat_minor": 5
}

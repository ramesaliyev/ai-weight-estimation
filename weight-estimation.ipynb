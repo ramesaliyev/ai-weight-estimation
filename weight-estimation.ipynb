{
 "cells": [
  {
   "cell_type": "markdown",
   "id": "7a3052c4-725f-4b95-b79b-32e1af3ee976",
   "metadata": {},
   "source": [
    "# Setup"
   ]
  },
  {
   "cell_type": "markdown",
   "id": "75ebfff6-efd7-414c-97b4-fae71057548e",
   "metadata": {},
   "source": [
    "### Initial tasks"
   ]
  },
  {
   "cell_type": "code",
   "execution_count": 1,
   "id": "18fbf0fe-b976-44ec-b99b-91197212f02e",
   "metadata": {},
   "outputs": [],
   "source": [
    "from IPython.core.interactiveshell import InteractiveShell\n",
    "InteractiveShell.ast_node_interactivity = \"all\""
   ]
  },
  {
   "cell_type": "markdown",
   "id": "12acbdb6-f23f-4305-85d4-e51b5a97a6ac",
   "metadata": {},
   "source": [
    "### Imports"
   ]
  },
  {
   "cell_type": "code",
   "execution_count": 2,
   "id": "647f85c0-05f5-440f-838a-7b3b3ee58d34",
   "metadata": {},
   "outputs": [],
   "source": [
    "import os\n",
    "import json\n",
    "from os import path\n",
    "\n",
    "import pandas as pd\n",
    "import numpy as np\n",
    "\n"
   ]
  },
  {
   "cell_type": "code",
   "execution_count": null,
   "id": "071cf6ed-546c-4733-94fd-92e4d928350a",
   "metadata": {},
   "outputs": [],
   "source": [
    "import seaborn as sns \n",
    "from sklearn.model_selection import train_test_split\n",
    "from sklearn import preprocessing\n",
    "from sklearn.ensemble import RandomForestClassifier\n",
    "from sklearn.metrics import confusion_matrix, accuracy_score, classification_report\n",
    "from lightgbm import LGBMClassifier\n",
    "from sklearn.linear_model import LogisticRegression\n",
    "from sklearn.naive_bayes import GaussianNB\n",
    "from sklearn.model_selection import cross_val_score"
   ]
  },
  {
   "cell_type": "markdown",
   "id": "ee0c9b13-2a8f-4240-9c7a-b301a9217866",
   "metadata": {},
   "source": [
    "### Utils / Helpers"
   ]
  },
  {
   "cell_type": "code",
   "execution_count": 3,
   "id": "8a04a271-955f-4c00-8100-908e2c767bdf",
   "metadata": {},
   "outputs": [],
   "source": [
    "def load_json(path):\n",
    "    with open(path) as f:\n",
    "        return json.load(f)"
   ]
  },
  {
   "cell_type": "markdown",
   "id": "0dbcc258-85f8-4c69-a9d5-9d7ca970e252",
   "metadata": {},
   "source": [
    "### Path Definitions"
   ]
  },
  {
   "cell_type": "code",
   "execution_count": 4,
   "id": "e47b0b0c-f9d8-4942-9313-97f9e6ac8d46",
   "metadata": {},
   "outputs": [],
   "source": [
    "root = path.abspath(os.getcwd())\n",
    "dataset_root = path.join(root, 'dataset')"
   ]
  },
  {
   "cell_type": "markdown",
   "id": "6bb57960-511e-42fa-ba52-a124dab8f762",
   "metadata": {},
   "source": [
    "# Read Dataset"
   ]
  },
  {
   "cell_type": "code",
   "execution_count": 5,
   "id": "ab0cdfef-706d-453e-8614-1b631959acce",
   "metadata": {},
   "outputs": [],
   "source": [
    "def map_employement_duration(entry):\n",
    "    entry = str(entry).lower()\n",
    "    split = entry.split(' ')\n",
    "    num = split[0]\n",
    "    output = entry\n",
    "    \n",
    "    if \"-\" in num:\n",
    "        num = num.split(\"-\")[1]\n",
    "    \n",
    "    if \"weeks\" in entry:\n",
    "        output = float(num) / 52\n",
    "    elif (\"month\" in entry) or (\"ay\" in entry):\n",
    "        output = float(num) / 12\n",
    "    elif (\"years\" in entry) or (\"sene\" in entry) or (\"yıl\" in entry):\n",
    "        output = float(num)\n",
    "    else:\n",
    "        try:\n",
    "            output = float(num)\n",
    "        except:\n",
    "            output = 0\n",
    "        \n",
    "    output = round(output, 3)\n",
    "    return output"
   ]
  },
  {
   "cell_type": "code",
   "execution_count": 6,
   "id": "b1302718-b6f8-4844-af3d-0e336cadffc2",
   "metadata": {},
   "outputs": [
    {
     "name": "stdout",
     "output_type": "stream",
     "text": [
      "<class 'pandas.core.frame.DataFrame'>\n",
      "Int64Index: 323 entries, 0 to 310\n",
      "Data columns (total 12 columns):\n",
      " #   Column                Non-Null Count  Dtype  \n",
      "---  ------                --------------  -----  \n",
      " 0   age                   323 non-null    int64  \n",
      " 1   height                323 non-null    int64  \n",
      " 2   weight                323 non-null    int64  \n",
      " 3   gender                323 non-null    int64  \n",
      " 4   smoking               323 non-null    int64  \n",
      " 5   drinking              323 non-null    int64  \n",
      " 6   exercise              323 non-null    int64  \n",
      " 7   married               323 non-null    int64  \n",
      " 8   children              323 non-null    int64  \n",
      " 9   student               323 non-null    int64  \n",
      " 10  employed              323 non-null    int64  \n",
      " 11  employement_duration  323 non-null    float64\n",
      "dtypes: float64(1), int64(11)\n",
      "memory usage: 32.8 KB\n"
     ]
    }
   ],
   "source": [
    "# read encodings\n",
    "encodings = load_json(path.join(dataset_root, 'encodings.json'))\n",
    "\n",
    "# read csvs\n",
    "csv_en = pd.read_csv(path.join(dataset_root, 'csv/english.csv'), dtype=str)\n",
    "csv_tr = pd.read_csv(path.join(dataset_root, 'csv/turkish.csv'), dtype=str)\n",
    "\n",
    "# drop columns\n",
    "csv_en.drop('Timestamp', axis=1, inplace=True)\n",
    "csv_tr.drop('Timestamp', axis=1, inplace=True)\n",
    "\n",
    "# rename columns\n",
    "csv_en.rename(columns=encodings['columns']['en'], inplace=True)\n",
    "csv_tr.rename(columns=encodings['columns']['tr'], inplace=True)\n",
    "\n",
    "# encode columns\n",
    "csv_en.replace(encodings['values']['en'], inplace=True)\n",
    "csv_tr.replace(encodings['values']['tr'], inplace=True)\n",
    "\n",
    "# concat csvs\n",
    "df = pd.concat([csv_en, csv_tr], axis=0)\n",
    "\n",
    "# fix NaNs\n",
    "df.fillna(0, inplace=True)\n",
    "\n",
    "# convert types\n",
    "df['age'] = df['age'].apply(lambda x: int(x))\n",
    "df['weight'] = df['weight'].apply(lambda x: int(float(x.replace(',', '.'))))\n",
    "df['height'] = df['height'].apply(lambda x: int(x.translate({ord(x): '' for x in [',', '.', ' ']})))\n",
    "df['employement_duration'] = df['employement_duration'].apply(map_employement_duration)\n",
    "\n",
    "# save csv\n",
    "df.to_csv(path.join(dataset_root, 'csv/data.csv'), index=None, header=True, encoding='utf-8-sig')\n",
    "df.info()"
   ]
  },
  {
   "cell_type": "markdown",
   "id": "07786960-b3a0-4966-a6fe-c37ece2351e3",
   "metadata": {},
   "source": [
    "# Explatory Data Analysis"
   ]
  },
  {
   "cell_type": "code",
   "execution_count": null,
   "id": "1cfdda0a-cbf6-4921-aa74-5c7be52b17e4",
   "metadata": {},
   "outputs": [],
   "source": []
  },
  {
   "cell_type": "markdown",
   "id": "fcd8004a-7cca-4577-a73f-81f5115417e2",
   "metadata": {
    "tags": []
   },
   "source": [
    "# Preprocessing"
   ]
  },
  {
   "cell_type": "code",
   "execution_count": 9,
   "id": "ef9639b3-473a-4563-9b30-82299c57930f",
   "metadata": {},
   "outputs": [],
   "source": [
    "def remove_outliers(dframe, columns):\n",
    "    for column in columns:\n",
    "        Q1 = dframe[column].quantile(0.25)\n",
    "        Q3 = dframe[column].quantile(0.75)\n",
    "        IQR = Q3 - Q1\n",
    "        lower_band = Q1 - 1.5*IQR\n",
    "        upper_band = Q3 + 1.5*IQR\n",
    "        \n",
    "        normals = ~((dframe[column] < lower_band) | (dframe[column] > upper_band))\n",
    "        dframe = dframe.loc[normals]\n",
    "    \n",
    "    return dframe"
   ]
  },
  {
   "cell_type": "code",
   "execution_count": 10,
   "id": "15027c8a-0253-44e5-9998-6c1f6700c00e",
   "metadata": {},
   "outputs": [
    {
     "name": "stdout",
     "output_type": "stream",
     "text": [
      "(288, 12)\n"
     ]
    }
   ],
   "source": [
    "train = remove_outliers(df, ['age', 'height', 'weight'])\n",
    "print(train.shape)"
   ]
  },
  {
   "cell_type": "code",
   "execution_count": null,
   "id": "1bfc7434-c82f-4677-8f32-efb09f053658",
   "metadata": {},
   "outputs": [],
   "source": []
  }
 ],
 "metadata": {
  "kernelspec": {
   "display_name": "Python 3 (ipykernel)",
   "language": "python",
   "name": "python3"
  },
  "language_info": {
   "codemirror_mode": {
    "name": "ipython",
    "version": 3
   },
   "file_extension": ".py",
   "mimetype": "text/x-python",
   "name": "python",
   "nbconvert_exporter": "python",
   "pygments_lexer": "ipython3",
   "version": "3.10.4"
  }
 },
 "nbformat": 4,
 "nbformat_minor": 5
}

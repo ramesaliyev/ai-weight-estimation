{
 "cells": [
  {
   "cell_type": "markdown",
   "id": "7a3052c4-725f-4b95-b79b-32e1af3ee976",
   "metadata": {},
   "source": [
    "# Setup"
   ]
  },
  {
   "cell_type": "markdown",
   "id": "75ebfff6-efd7-414c-97b4-fae71057548e",
   "metadata": {},
   "source": [
    "### Initial tasks"
   ]
  },
  {
   "cell_type": "code",
   "execution_count": 1,
   "id": "18fbf0fe-b976-44ec-b99b-91197212f02e",
   "metadata": {},
   "outputs": [],
   "source": [
    "from IPython.core.interactiveshell import InteractiveShell\n",
    "InteractiveShell.ast_node_interactivity = \"all\""
   ]
  },
  {
   "cell_type": "markdown",
   "id": "12acbdb6-f23f-4305-85d4-e51b5a97a6ac",
   "metadata": {},
   "source": [
    "### Imports"
   ]
  },
  {
   "cell_type": "code",
   "execution_count": 2,
   "id": "647f85c0-05f5-440f-838a-7b3b3ee58d34",
   "metadata": {},
   "outputs": [],
   "source": [
    "# built-ins\n",
    "import os\n",
    "import json\n",
    "from os import path\n",
    "\n",
    "# common\n",
    "import pandas as pd\n",
    "import numpy as np\n",
    "import matplotlib.pyplot as plt\n",
    "\n",
    "# preprocessing\n",
    "from sklearn.model_selection import train_test_split\n",
    "from sklearn import preprocessing\n",
    "\n",
    "# metrics\n",
    "from sklearn.metrics import confusion_matrix, accuracy_score, classification_report, mean_squared_error\n",
    "from skompiler import skompile\n",
    "\n",
    "# training\n",
    "from sklearn.linear_model import LinearRegression\n",
    "from sklearn.svm import LinearSVR\n",
    "from sklearn.tree import DecisionTreeRegressor\n",
    "from sklearn.ensemble import RandomForestRegressor\n",
    "from xgboost import XGBRegressor\n",
    "from lightgbm import LGBMRegressor"
   ]
  },
  {
   "cell_type": "markdown",
   "id": "ee0c9b13-2a8f-4240-9c7a-b301a9217866",
   "metadata": {},
   "source": [
    "### Utils / Helpers"
   ]
  },
  {
   "cell_type": "code",
   "execution_count": 3,
   "id": "8a04a271-955f-4c00-8100-908e2c767bdf",
   "metadata": {},
   "outputs": [],
   "source": [
    "def load_json(path):\n",
    "    with open(path) as f:\n",
    "        return json.load(f)"
   ]
  },
  {
   "cell_type": "markdown",
   "id": "0dbcc258-85f8-4c69-a9d5-9d7ca970e252",
   "metadata": {},
   "source": [
    "### Path Definitions"
   ]
  },
  {
   "cell_type": "code",
   "execution_count": 4,
   "id": "e47b0b0c-f9d8-4942-9313-97f9e6ac8d46",
   "metadata": {},
   "outputs": [],
   "source": [
    "root = path.abspath(os.getcwd())\n",
    "dataset_root = path.join(root, 'dataset')"
   ]
  },
  {
   "cell_type": "markdown",
   "id": "6bb57960-511e-42fa-ba52-a124dab8f762",
   "metadata": {},
   "source": [
    "# Read Dataset"
   ]
  },
  {
   "cell_type": "code",
   "execution_count": 5,
   "id": "ab0cdfef-706d-453e-8614-1b631959acce",
   "metadata": {},
   "outputs": [],
   "source": [
    "def map_employement_duration(entry):\n",
    "    entry = str(entry).lower()\n",
    "    split = entry.split(' ')\n",
    "    num = split[0]\n",
    "    output = entry\n",
    "    \n",
    "    if \"-\" in num:\n",
    "        num = num.split(\"-\")[1]\n",
    "    \n",
    "    if \"weeks\" in entry:\n",
    "        output = float(num) / 52\n",
    "    elif (\"month\" in entry) or (\"ay\" in entry):\n",
    "        output = float(num) / 12\n",
    "    elif (\"years\" in entry) or (\"sene\" in entry) or (\"yıl\" in entry):\n",
    "        output = float(num)\n",
    "    else:\n",
    "        try:\n",
    "            output = float(num)\n",
    "        except:\n",
    "            output = 0\n",
    "        \n",
    "    output = round(output, 3)\n",
    "    return output"
   ]
  },
  {
   "cell_type": "code",
   "execution_count": 6,
   "id": "b1302718-b6f8-4844-af3d-0e336cadffc2",
   "metadata": {},
   "outputs": [
    {
     "name": "stdout",
     "output_type": "stream",
     "text": [
      "<class 'pandas.core.frame.DataFrame'>\n",
      "Int64Index: 322 entries, 0 to 309\n",
      "Data columns (total 12 columns):\n",
      " #   Column               Non-Null Count  Dtype  \n",
      "---  ------               --------------  -----  \n",
      " 0   age                  322 non-null    int64  \n",
      " 1   height               322 non-null    int64  \n",
      " 2   weight               322 non-null    int64  \n",
      " 3   gender               322 non-null    int64  \n",
      " 4   smoking              322 non-null    int64  \n",
      " 5   drinking             322 non-null    int64  \n",
      " 6   exercise             322 non-null    int64  \n",
      " 7   married              322 non-null    int64  \n",
      " 8   children             322 non-null    int64  \n",
      " 9   student              322 non-null    int64  \n",
      " 10  employed             322 non-null    int64  \n",
      " 11  employment_duration  322 non-null    float64\n",
      "dtypes: float64(1), int64(11)\n",
      "memory usage: 32.7 KB\n"
     ]
    }
   ],
   "source": [
    "# read encodings\n",
    "encodings = load_json(path.join(dataset_root, 'encodings.json'))\n",
    "\n",
    "# read csvs\n",
    "csv_en = pd.read_csv(path.join(dataset_root, 'csv/english.csv'), dtype=str)\n",
    "csv_tr = pd.read_csv(path.join(dataset_root, 'csv/turkish.csv'), dtype=str)\n",
    "\n",
    "# drop columns\n",
    "csv_en.drop('Timestamp', axis=1, inplace=True)\n",
    "csv_tr.drop('Timestamp', axis=1, inplace=True)\n",
    "\n",
    "# rename columns\n",
    "csv_en.rename(columns=encodings['columns']['en'], inplace=True)\n",
    "csv_tr.rename(columns=encodings['columns']['tr'], inplace=True)\n",
    "\n",
    "# encode columns\n",
    "csv_en.replace(encodings['values']['en'], inplace=True)\n",
    "csv_tr.replace(encodings['values']['tr'], inplace=True)\n",
    "\n",
    "# concat csvs\n",
    "df = pd.concat([csv_en, csv_tr], axis=0)\n",
    "\n",
    "# fix NaNs\n",
    "df.fillna(0, inplace=True)\n",
    "\n",
    "# convert types\n",
    "df['age'] = df['age'].apply(lambda x: int(x))\n",
    "df['weight'] = df['weight'].apply(lambda x: int(float(x.replace(',', '.'))))\n",
    "df['height'] = df['height'].apply(lambda x: int(x.translate({ord(x): '' for x in [',', '.', ' ']})))\n",
    "df['employment_duration'] = df['employment_duration'].apply(map_employement_duration)\n",
    "\n",
    "# save csv\n",
    "df.to_csv(path.join(dataset_root, 'csv/data.csv'), index=None, header=True, encoding='utf-8-sig')\n",
    "df.info()"
   ]
  },
  {
   "cell_type": "markdown",
   "id": "07786960-b3a0-4966-a6fe-c37ece2351e3",
   "metadata": {},
   "source": [
    "# Explatory Data Analysis"
   ]
  },
  {
   "cell_type": "code",
   "execution_count": 7,
   "id": "1cfdda0a-cbf6-4921-aa74-5c7be52b17e4",
   "metadata": {},
   "outputs": [
    {
     "data": {
      "text/html": [
       "<div>\n",
       "<style scoped>\n",
       "    .dataframe tbody tr th:only-of-type {\n",
       "        vertical-align: middle;\n",
       "    }\n",
       "\n",
       "    .dataframe tbody tr th {\n",
       "        vertical-align: top;\n",
       "    }\n",
       "\n",
       "    .dataframe thead th {\n",
       "        text-align: right;\n",
       "    }\n",
       "</style>\n",
       "<table border=\"1\" class=\"dataframe\">\n",
       "  <thead>\n",
       "    <tr style=\"text-align: right;\">\n",
       "      <th></th>\n",
       "      <th>age</th>\n",
       "      <th>height</th>\n",
       "      <th>weight</th>\n",
       "      <th>gender</th>\n",
       "      <th>smoking</th>\n",
       "      <th>drinking</th>\n",
       "      <th>exercise</th>\n",
       "      <th>married</th>\n",
       "      <th>children</th>\n",
       "      <th>student</th>\n",
       "      <th>employed</th>\n",
       "      <th>employment_duration</th>\n",
       "    </tr>\n",
       "  </thead>\n",
       "  <tbody>\n",
       "    <tr>\n",
       "      <th>0</th>\n",
       "      <td>36</td>\n",
       "      <td>175</td>\n",
       "      <td>82</td>\n",
       "      <td>1</td>\n",
       "      <td>0</td>\n",
       "      <td>3</td>\n",
       "      <td>1</td>\n",
       "      <td>0</td>\n",
       "      <td>0</td>\n",
       "      <td>0</td>\n",
       "      <td>1</td>\n",
       "      <td>12.000</td>\n",
       "    </tr>\n",
       "    <tr>\n",
       "      <th>1</th>\n",
       "      <td>22</td>\n",
       "      <td>178</td>\n",
       "      <td>77</td>\n",
       "      <td>1</td>\n",
       "      <td>0</td>\n",
       "      <td>2</td>\n",
       "      <td>1</td>\n",
       "      <td>0</td>\n",
       "      <td>0</td>\n",
       "      <td>1</td>\n",
       "      <td>0</td>\n",
       "      <td>0.000</td>\n",
       "    </tr>\n",
       "    <tr>\n",
       "      <th>2</th>\n",
       "      <td>32</td>\n",
       "      <td>174</td>\n",
       "      <td>65</td>\n",
       "      <td>1</td>\n",
       "      <td>0</td>\n",
       "      <td>2</td>\n",
       "      <td>1</td>\n",
       "      <td>0</td>\n",
       "      <td>0</td>\n",
       "      <td>1</td>\n",
       "      <td>2</td>\n",
       "      <td>0.038</td>\n",
       "    </tr>\n",
       "    <tr>\n",
       "      <th>3</th>\n",
       "      <td>21</td>\n",
       "      <td>156</td>\n",
       "      <td>65</td>\n",
       "      <td>0</td>\n",
       "      <td>0</td>\n",
       "      <td>0</td>\n",
       "      <td>2</td>\n",
       "      <td>0</td>\n",
       "      <td>0</td>\n",
       "      <td>1</td>\n",
       "      <td>0</td>\n",
       "      <td>0.000</td>\n",
       "    </tr>\n",
       "    <tr>\n",
       "      <th>4</th>\n",
       "      <td>24</td>\n",
       "      <td>176</td>\n",
       "      <td>94</td>\n",
       "      <td>1</td>\n",
       "      <td>0</td>\n",
       "      <td>1</td>\n",
       "      <td>1</td>\n",
       "      <td>0</td>\n",
       "      <td>0</td>\n",
       "      <td>1</td>\n",
       "      <td>0</td>\n",
       "      <td>0.000</td>\n",
       "    </tr>\n",
       "  </tbody>\n",
       "</table>\n",
       "</div>"
      ],
      "text/plain": [
       "   age  height  weight  gender  smoking  drinking  exercise  married  \\\n",
       "0   36     175      82       1        0         3         1        0   \n",
       "1   22     178      77       1        0         2         1        0   \n",
       "2   32     174      65       1        0         2         1        0   \n",
       "3   21     156      65       0        0         0         2        0   \n",
       "4   24     176      94       1        0         1         1        0   \n",
       "\n",
       "   children  student  employed  employment_duration  \n",
       "0         0        0         1               12.000  \n",
       "1         0        1         0                0.000  \n",
       "2         0        1         2                0.038  \n",
       "3         0        1         0                0.000  \n",
       "4         0        1         0                0.000  "
      ]
     },
     "execution_count": 7,
     "metadata": {},
     "output_type": "execute_result"
    }
   ],
   "source": [
    "df.head()"
   ]
  },
  {
   "cell_type": "markdown",
   "id": "44e5f02f-c09d-4a3e-bfdf-69e006d8bdc2",
   "metadata": {},
   "source": [
    "# Hyperparameters"
   ]
  },
  {
   "cell_type": "code",
   "execution_count": 8,
   "id": "4546a359-7cd8-4e20-89a5-5b624e9e7b6f",
   "metadata": {},
   "outputs": [],
   "source": [
    "hp_seed = 42\n",
    "\n",
    "hp_split_seed = hp_seed\n",
    "hp_test_size = 0.2\n",
    "hp_val_size = 0.1"
   ]
  },
  {
   "cell_type": "markdown",
   "id": "fcd8004a-7cca-4577-a73f-81f5115417e2",
   "metadata": {
    "tags": []
   },
   "source": [
    "# Preprocessing"
   ]
  },
  {
   "cell_type": "markdown",
   "id": "df61e293-874c-41eb-8796-47558b577b69",
   "metadata": {},
   "source": [
    "### Helpers"
   ]
  },
  {
   "cell_type": "code",
   "execution_count": 9,
   "id": "cd5477bf-9284-45d6-af34-2e4bba185215",
   "metadata": {},
   "outputs": [],
   "source": [
    "def remove_outliers(dframe, columns):\n",
    "    for column in columns:\n",
    "        Q1 = dframe[column].quantile(0.25)\n",
    "        Q3 = dframe[column].quantile(0.75)\n",
    "        IQR = Q3 - Q1\n",
    "        lower_band = Q1 - 1.5*IQR\n",
    "        upper_band = Q3 + 1.5*IQR\n",
    "        \n",
    "        normals = ~((dframe[column] < lower_band) | (dframe[column] > upper_band))\n",
    "        dframe = dframe.loc[normals]\n",
    "    \n",
    "    return dframe"
   ]
  },
  {
   "cell_type": "markdown",
   "id": "39668ac3-aeff-4d72-be50-49773b43c2dd",
   "metadata": {},
   "source": [
    "### Pipeline"
   ]
  },
  {
   "cell_type": "code",
   "execution_count": 10,
   "id": "ef9639b3-473a-4563-9b30-82299c57930f",
   "metadata": {},
   "outputs": [
    {
     "name": "stdout",
     "output_type": "stream",
     "text": [
      "(231, 12)\n"
     ]
    }
   ],
   "source": [
    "# Split into test, val and train.\n",
    "rest_df, test_df = train_test_split(df, test_size=hp_test_size, random_state=hp_split_seed)\n",
    "train_df, val_df = train_test_split(rest_df, test_size=hp_val_size, random_state=hp_split_seed)\n",
    "\n",
    "# Remove outliers from train.\n",
    "# train_df = remove_outliers(train_df, ['age', 'height', 'weight'])\n",
    "print(train_df.shape)\n",
    "\n",
    "# Apply standardization\n",
    "cols = ['age', 'height', 'employment_duration']\n",
    "std_scaler = preprocessing.StandardScaler().fit(train_df[cols])\n",
    "test_df[cols] = std_scaler.transform(test_df[cols])\n",
    "val_df[cols] = std_scaler.transform(val_df[cols])\n",
    "train_df[cols] = std_scaler.transform(train_df[cols])\n",
    "\n",
    "# Separate data and labels.\n",
    "X_test, Y_test = test_df.drop('weight', axis=1), test_df['weight'].to_frame()\n",
    "X_val, Y_val = val_df.drop('weight', axis=1), val_df['weight'].to_frame()\n",
    "X_train, Y_train = train_df.drop('weight', axis=1), train_df['weight'].to_frame()"
   ]
  },
  {
   "cell_type": "markdown",
   "id": "0f307799-3b1c-4d81-994c-6f090c0e7b6d",
   "metadata": {},
   "source": [
    "# Training"
   ]
  },
  {
   "cell_type": "markdown",
   "id": "a905e157-4c37-4da9-86d4-10cdeca80115",
   "metadata": {},
   "source": [
    "### Helpers"
   ]
  },
  {
   "cell_type": "code",
   "execution_count": 18,
   "id": "6fe163f8-ea4d-4ff6-bf8b-95b1ce93aea6",
   "metadata": {},
   "outputs": [
    {
     "ename": "SyntaxError",
     "evalue": "Missing parentheses in call to 'print'. Did you mean print(...)? (5018081.py, line 33)",
     "output_type": "error",
     "traceback": [
      "\u001b[0;36m  Input \u001b[0;32mIn [18]\u001b[0;36m\u001b[0m\n\u001b[0;31m    print \"def tree({}):\".format(\", \".join(feature_names))\u001b[0m\n\u001b[0m    ^\u001b[0m\n\u001b[0;31mSyntaxError\u001b[0m\u001b[0;31m:\u001b[0m Missing parentheses in call to 'print'. Did you mean print(...)?\n"
     ]
    }
   ],
   "source": [
    "def process_pred(true, pred):\n",
    "    if type(true) is pd.DataFrame:\n",
    "        true = true.to_numpy()\n",
    "        \n",
    "    if type(pred) is pd.DataFrame:\n",
    "        pred = pred.to_numpy()\n",
    "        \n",
    "    true = true.reshape(-1)\n",
    "    pred = pred.reshape(-1)\n",
    "    \n",
    "    rmse = round(np.sqrt(mean_squared_error(true, pred)), 2)\n",
    "    diff = np.absolute(true - pred)\n",
    "        \n",
    "    df = pd.DataFrame(data={\n",
    "        'true': true,\n",
    "        'prediction': pred,\n",
    "        'diff': diff\n",
    "    })\n",
    "    \n",
    "    df = df.sort_values('diff', ascending=False)\n",
    "    \n",
    "    return df, rmse"
   ]
  },
  {
   "cell_type": "markdown",
   "id": "6ce6e6df-55ef-485c-bd07-82f410301235",
   "metadata": {},
   "source": [
    "## Linear Regression"
   ]
  },
  {
   "cell_type": "code",
   "execution_count": 12,
   "id": "405fdfb1-113d-45a2-86c7-158695f06b86",
   "metadata": {},
   "outputs": [
    {
     "data": {
      "text/plain": [
       "LinearRegression()"
      ]
     },
     "execution_count": 12,
     "metadata": {},
     "output_type": "execute_result"
    },
    {
     "name": "stdout",
     "output_type": "stream",
     "text": [
      "9.84\n"
     ]
    },
    {
     "data": {
      "text/html": [
       "<div>\n",
       "<style scoped>\n",
       "    .dataframe tbody tr th:only-of-type {\n",
       "        vertical-align: middle;\n",
       "    }\n",
       "\n",
       "    .dataframe tbody tr th {\n",
       "        vertical-align: top;\n",
       "    }\n",
       "\n",
       "    .dataframe thead th {\n",
       "        text-align: right;\n",
       "    }\n",
       "</style>\n",
       "<table border=\"1\" class=\"dataframe\">\n",
       "  <thead>\n",
       "    <tr style=\"text-align: right;\">\n",
       "      <th></th>\n",
       "      <th>true</th>\n",
       "      <th>prediction</th>\n",
       "      <th>diff</th>\n",
       "    </tr>\n",
       "  </thead>\n",
       "  <tbody>\n",
       "    <tr>\n",
       "      <th>26</th>\n",
       "      <td>100</td>\n",
       "      <td>64.443950</td>\n",
       "      <td>35.556050</td>\n",
       "    </tr>\n",
       "    <tr>\n",
       "      <th>37</th>\n",
       "      <td>55</td>\n",
       "      <td>80.256014</td>\n",
       "      <td>25.256014</td>\n",
       "    </tr>\n",
       "    <tr>\n",
       "      <th>41</th>\n",
       "      <td>105</td>\n",
       "      <td>83.577135</td>\n",
       "      <td>21.422865</td>\n",
       "    </tr>\n",
       "    <tr>\n",
       "      <th>23</th>\n",
       "      <td>91</td>\n",
       "      <td>72.894773</td>\n",
       "      <td>18.105227</td>\n",
       "    </tr>\n",
       "    <tr>\n",
       "      <th>29</th>\n",
       "      <td>54</td>\n",
       "      <td>71.675001</td>\n",
       "      <td>17.675001</td>\n",
       "    </tr>\n",
       "    <tr>\n",
       "      <th>38</th>\n",
       "      <td>80</td>\n",
       "      <td>97.262309</td>\n",
       "      <td>17.262309</td>\n",
       "    </tr>\n",
       "    <tr>\n",
       "      <th>59</th>\n",
       "      <td>97</td>\n",
       "      <td>80.881289</td>\n",
       "      <td>16.118711</td>\n",
       "    </tr>\n",
       "    <tr>\n",
       "      <th>22</th>\n",
       "      <td>47</td>\n",
       "      <td>62.977079</td>\n",
       "      <td>15.977079</td>\n",
       "    </tr>\n",
       "    <tr>\n",
       "      <th>57</th>\n",
       "      <td>65</td>\n",
       "      <td>51.017552</td>\n",
       "      <td>13.982448</td>\n",
       "    </tr>\n",
       "    <tr>\n",
       "      <th>43</th>\n",
       "      <td>60</td>\n",
       "      <td>73.863599</td>\n",
       "      <td>13.863599</td>\n",
       "    </tr>\n",
       "  </tbody>\n",
       "</table>\n",
       "</div>"
      ],
      "text/plain": [
       "    true  prediction       diff\n",
       "26   100   64.443950  35.556050\n",
       "37    55   80.256014  25.256014\n",
       "41   105   83.577135  21.422865\n",
       "23    91   72.894773  18.105227\n",
       "29    54   71.675001  17.675001\n",
       "38    80   97.262309  17.262309\n",
       "59    97   80.881289  16.118711\n",
       "22    47   62.977079  15.977079\n",
       "57    65   51.017552  13.982448\n",
       "43    60   73.863599  13.863599"
      ]
     },
     "execution_count": 12,
     "metadata": {},
     "output_type": "execute_result"
    }
   ],
   "source": [
    "reg = LinearRegression()\n",
    "reg.fit(X_train, Y_train)\n",
    "Y_pred = reg.predict(X_test)\n",
    "\n",
    "rdf, rmse = process_pred(Y_test, Y_pred)\n",
    "print(rmse)\n",
    "rdf.head(10)"
   ]
  },
  {
   "cell_type": "markdown",
   "id": "372f1047-e12a-4db3-842b-8548c5f83863",
   "metadata": {},
   "source": [
    "## Linear Support Vector Regression"
   ]
  },
  {
   "cell_type": "code",
   "execution_count": 13,
   "id": "2ee068df-0195-42f9-8960-f909ba0418a8",
   "metadata": {},
   "outputs": [
    {
     "data": {
      "text/plain": [
       "LinearSVR(random_state=42)"
      ]
     },
     "execution_count": 13,
     "metadata": {},
     "output_type": "execute_result"
    },
    {
     "name": "stdout",
     "output_type": "stream",
     "text": [
      "12.03\n"
     ]
    },
    {
     "data": {
      "text/html": [
       "<div>\n",
       "<style scoped>\n",
       "    .dataframe tbody tr th:only-of-type {\n",
       "        vertical-align: middle;\n",
       "    }\n",
       "\n",
       "    .dataframe tbody tr th {\n",
       "        vertical-align: top;\n",
       "    }\n",
       "\n",
       "    .dataframe thead th {\n",
       "        text-align: right;\n",
       "    }\n",
       "</style>\n",
       "<table border=\"1\" class=\"dataframe\">\n",
       "  <thead>\n",
       "    <tr style=\"text-align: right;\">\n",
       "      <th></th>\n",
       "      <th>true</th>\n",
       "      <th>prediction</th>\n",
       "      <th>diff</th>\n",
       "    </tr>\n",
       "  </thead>\n",
       "  <tbody>\n",
       "    <tr>\n",
       "      <th>26</th>\n",
       "      <td>100</td>\n",
       "      <td>64.489839</td>\n",
       "      <td>35.510161</td>\n",
       "    </tr>\n",
       "    <tr>\n",
       "      <th>44</th>\n",
       "      <td>70</td>\n",
       "      <td>41.519885</td>\n",
       "      <td>28.480115</td>\n",
       "    </tr>\n",
       "    <tr>\n",
       "      <th>47</th>\n",
       "      <td>91</td>\n",
       "      <td>65.455192</td>\n",
       "      <td>25.544808</td>\n",
       "    </tr>\n",
       "    <tr>\n",
       "      <th>50</th>\n",
       "      <td>90</td>\n",
       "      <td>64.591616</td>\n",
       "      <td>25.408384</td>\n",
       "    </tr>\n",
       "    <tr>\n",
       "      <th>59</th>\n",
       "      <td>97</td>\n",
       "      <td>72.221168</td>\n",
       "      <td>24.778832</td>\n",
       "    </tr>\n",
       "    <tr>\n",
       "      <th>41</th>\n",
       "      <td>105</td>\n",
       "      <td>83.965775</td>\n",
       "      <td>21.034225</td>\n",
       "    </tr>\n",
       "    <tr>\n",
       "      <th>63</th>\n",
       "      <td>87</td>\n",
       "      <td>67.200543</td>\n",
       "      <td>19.799457</td>\n",
       "    </tr>\n",
       "    <tr>\n",
       "      <th>34</th>\n",
       "      <td>62</td>\n",
       "      <td>79.395954</td>\n",
       "      <td>17.395954</td>\n",
       "    </tr>\n",
       "    <tr>\n",
       "      <th>18</th>\n",
       "      <td>50</td>\n",
       "      <td>32.908454</td>\n",
       "      <td>17.091546</td>\n",
       "    </tr>\n",
       "    <tr>\n",
       "      <th>36</th>\n",
       "      <td>84</td>\n",
       "      <td>67.460121</td>\n",
       "      <td>16.539879</td>\n",
       "    </tr>\n",
       "  </tbody>\n",
       "</table>\n",
       "</div>"
      ],
      "text/plain": [
       "    true  prediction       diff\n",
       "26   100   64.489839  35.510161\n",
       "44    70   41.519885  28.480115\n",
       "47    91   65.455192  25.544808\n",
       "50    90   64.591616  25.408384\n",
       "59    97   72.221168  24.778832\n",
       "41   105   83.965775  21.034225\n",
       "63    87   67.200543  19.799457\n",
       "34    62   79.395954  17.395954\n",
       "18    50   32.908454  17.091546\n",
       "36    84   67.460121  16.539879"
      ]
     },
     "execution_count": 13,
     "metadata": {},
     "output_type": "execute_result"
    }
   ],
   "source": [
    "svr_model = LinearSVR(random_state=hp_seed)\n",
    "svr_model.fit(X_train, Y_train.to_numpy().ravel())\n",
    "Y_pred = svr_model.predict(X_test)\n",
    "\n",
    "rdf, rmse = process_pred(Y_test, Y_pred)\n",
    "print(rmse)\n",
    "rdf.head(10)"
   ]
  },
  {
   "cell_type": "markdown",
   "id": "e1cfe7a1-934f-4eb4-88c0-482187cdee3b",
   "metadata": {},
   "source": [
    "## Decision Tree"
   ]
  },
  {
   "cell_type": "code",
   "execution_count": 20,
   "id": "0ba66f4e-6ece-4a79-af5f-e07b19e4910f",
   "metadata": {},
   "outputs": [
    {
     "data": {
      "text/plain": [
       "DecisionTreeRegressor()"
      ]
     },
     "execution_count": 20,
     "metadata": {},
     "output_type": "execute_result"
    },
    {
     "name": "stdout",
     "output_type": "stream",
     "text": [
      "15.71\n"
     ]
    },
    {
     "data": {
      "text/html": [
       "<div>\n",
       "<style scoped>\n",
       "    .dataframe tbody tr th:only-of-type {\n",
       "        vertical-align: middle;\n",
       "    }\n",
       "\n",
       "    .dataframe tbody tr th {\n",
       "        vertical-align: top;\n",
       "    }\n",
       "\n",
       "    .dataframe thead th {\n",
       "        text-align: right;\n",
       "    }\n",
       "</style>\n",
       "<table border=\"1\" class=\"dataframe\">\n",
       "  <thead>\n",
       "    <tr style=\"text-align: right;\">\n",
       "      <th></th>\n",
       "      <th>true</th>\n",
       "      <th>prediction</th>\n",
       "      <th>diff</th>\n",
       "    </tr>\n",
       "  </thead>\n",
       "  <tbody>\n",
       "    <tr>\n",
       "      <th>49</th>\n",
       "      <td>81</td>\n",
       "      <td>130.0</td>\n",
       "      <td>49.0</td>\n",
       "    </tr>\n",
       "    <tr>\n",
       "      <th>4</th>\n",
       "      <td>62</td>\n",
       "      <td>100.0</td>\n",
       "      <td>38.0</td>\n",
       "    </tr>\n",
       "    <tr>\n",
       "      <th>27</th>\n",
       "      <td>72</td>\n",
       "      <td>100.0</td>\n",
       "      <td>28.0</td>\n",
       "    </tr>\n",
       "    <tr>\n",
       "      <th>42</th>\n",
       "      <td>74</td>\n",
       "      <td>100.0</td>\n",
       "      <td>26.0</td>\n",
       "    </tr>\n",
       "    <tr>\n",
       "      <th>41</th>\n",
       "      <td>105</td>\n",
       "      <td>80.0</td>\n",
       "      <td>25.0</td>\n",
       "    </tr>\n",
       "    <tr>\n",
       "      <th>10</th>\n",
       "      <td>78</td>\n",
       "      <td>53.0</td>\n",
       "      <td>25.0</td>\n",
       "    </tr>\n",
       "    <tr>\n",
       "      <th>57</th>\n",
       "      <td>65</td>\n",
       "      <td>41.0</td>\n",
       "      <td>24.0</td>\n",
       "    </tr>\n",
       "    <tr>\n",
       "      <th>5</th>\n",
       "      <td>76</td>\n",
       "      <td>53.0</td>\n",
       "      <td>23.0</td>\n",
       "    </tr>\n",
       "    <tr>\n",
       "      <th>45</th>\n",
       "      <td>86</td>\n",
       "      <td>108.0</td>\n",
       "      <td>22.0</td>\n",
       "    </tr>\n",
       "    <tr>\n",
       "      <th>48</th>\n",
       "      <td>68</td>\n",
       "      <td>89.0</td>\n",
       "      <td>21.0</td>\n",
       "    </tr>\n",
       "  </tbody>\n",
       "</table>\n",
       "</div>"
      ],
      "text/plain": [
       "    true  prediction  diff\n",
       "49    81       130.0  49.0\n",
       "4     62       100.0  38.0\n",
       "27    72       100.0  28.0\n",
       "42    74       100.0  26.0\n",
       "41   105        80.0  25.0\n",
       "10    78        53.0  25.0\n",
       "57    65        41.0  24.0\n",
       "5     76        53.0  23.0\n",
       "45    86       108.0  22.0\n",
       "48    68        89.0  21.0"
      ]
     },
     "execution_count": 20,
     "metadata": {},
     "output_type": "execute_result"
    }
   ],
   "source": [
    "dt_model = DecisionTreeRegressor()\n",
    "dt_model.fit(X_train, Y_train)\n",
    "Y_pred = dt_model.predict(X_test)\n",
    "\n",
    "rdf, rmse = process_pred(Y_test, Y_pred)\n",
    "print(rmse)\n",
    "rdf.head(10)\n",
    "\n",
    "#print(skompile(dt_model.predict).to('string'))"
   ]
  },
  {
   "cell_type": "markdown",
   "id": "b09b9b2c-c726-41c6-96ec-1029cf6c44fb",
   "metadata": {},
   "source": [
    "## Random Forest"
   ]
  },
  {
   "cell_type": "code",
   "execution_count": 15,
   "id": "4ae5acbb-c6aa-4eae-9e51-13189731aee5",
   "metadata": {},
   "outputs": [
    {
     "data": {
      "text/plain": [
       "RandomForestRegressor(random_state=42)"
      ]
     },
     "execution_count": 15,
     "metadata": {},
     "output_type": "execute_result"
    },
    {
     "name": "stdout",
     "output_type": "stream",
     "text": [
      "11.55\n"
     ]
    },
    {
     "data": {
      "text/html": [
       "<div>\n",
       "<style scoped>\n",
       "    .dataframe tbody tr th:only-of-type {\n",
       "        vertical-align: middle;\n",
       "    }\n",
       "\n",
       "    .dataframe tbody tr th {\n",
       "        vertical-align: top;\n",
       "    }\n",
       "\n",
       "    .dataframe thead th {\n",
       "        text-align: right;\n",
       "    }\n",
       "</style>\n",
       "<table border=\"1\" class=\"dataframe\">\n",
       "  <thead>\n",
       "    <tr style=\"text-align: right;\">\n",
       "      <th></th>\n",
       "      <th>true</th>\n",
       "      <th>prediction</th>\n",
       "      <th>diff</th>\n",
       "    </tr>\n",
       "  </thead>\n",
       "  <tbody>\n",
       "    <tr>\n",
       "      <th>26</th>\n",
       "      <td>100</td>\n",
       "      <td>59.720000</td>\n",
       "      <td>40.280000</td>\n",
       "    </tr>\n",
       "    <tr>\n",
       "      <th>41</th>\n",
       "      <td>105</td>\n",
       "      <td>80.720000</td>\n",
       "      <td>24.280000</td>\n",
       "    </tr>\n",
       "    <tr>\n",
       "      <th>22</th>\n",
       "      <td>47</td>\n",
       "      <td>67.900000</td>\n",
       "      <td>20.900000</td>\n",
       "    </tr>\n",
       "    <tr>\n",
       "      <th>64</th>\n",
       "      <td>56</td>\n",
       "      <td>75.970000</td>\n",
       "      <td>19.970000</td>\n",
       "    </tr>\n",
       "    <tr>\n",
       "      <th>43</th>\n",
       "      <td>60</td>\n",
       "      <td>77.846667</td>\n",
       "      <td>17.846667</td>\n",
       "    </tr>\n",
       "    <tr>\n",
       "      <th>59</th>\n",
       "      <td>97</td>\n",
       "      <td>80.120000</td>\n",
       "      <td>16.880000</td>\n",
       "    </tr>\n",
       "    <tr>\n",
       "      <th>55</th>\n",
       "      <td>75</td>\n",
       "      <td>58.600000</td>\n",
       "      <td>16.400000</td>\n",
       "    </tr>\n",
       "    <tr>\n",
       "      <th>19</th>\n",
       "      <td>75</td>\n",
       "      <td>58.890000</td>\n",
       "      <td>16.110000</td>\n",
       "    </tr>\n",
       "    <tr>\n",
       "      <th>37</th>\n",
       "      <td>55</td>\n",
       "      <td>71.110000</td>\n",
       "      <td>16.110000</td>\n",
       "    </tr>\n",
       "    <tr>\n",
       "      <th>47</th>\n",
       "      <td>91</td>\n",
       "      <td>74.950000</td>\n",
       "      <td>16.050000</td>\n",
       "    </tr>\n",
       "  </tbody>\n",
       "</table>\n",
       "</div>"
      ],
      "text/plain": [
       "    true  prediction       diff\n",
       "26   100   59.720000  40.280000\n",
       "41   105   80.720000  24.280000\n",
       "22    47   67.900000  20.900000\n",
       "64    56   75.970000  19.970000\n",
       "43    60   77.846667  17.846667\n",
       "59    97   80.120000  16.880000\n",
       "55    75   58.600000  16.400000\n",
       "19    75   58.890000  16.110000\n",
       "37    55   71.110000  16.110000\n",
       "47    91   74.950000  16.050000"
      ]
     },
     "execution_count": 15,
     "metadata": {},
     "output_type": "execute_result"
    },
    {
     "name": "stdout",
     "output_type": "stream",
     "text": [
      "[0.22355739 0.42948967 0.03298155 0.03544098 0.0521709  0.03895918\n",
      " 0.03701942 0.00713196 0.0092897  0.04803501 0.08592424]\n"
     ]
    },
    {
     "data": {
      "text/plain": [
       "<BarContainer object of 11 artists>"
      ]
     },
     "execution_count": 15,
     "metadata": {},
     "output_type": "execute_result"
    },
    {
     "data": {
      "image/png": "[encoded data removed]",
      "text/plain": [
       "<Figure size 432x288 with 1 Axes>"
      ]
     },
     "metadata": {
      "needs_background": "light"
     },
     "output_type": "display_data"
    }
   ],
   "source": [
    "rf_model = RandomForestRegressor(random_state=hp_seed)\n",
    "rf_model.fit(X_train, Y_train.to_numpy().ravel())\n",
    "Y_pred = rf_model.predict(X_test)\n",
    "\n",
    "rdf, rmse = process_pred(Y_test, Y_pred)\n",
    "print(rmse)\n",
    "rdf.head(10)\n",
    "\n",
    "print(rf_model.feature_importances_)\n",
    "plt.barh(X_train.columns, rf_model.feature_importances_)"
   ]
  },
  {
   "cell_type": "markdown",
   "id": "fac8feff-fd4e-4c39-b6f4-a1b5403379f0",
   "metadata": {},
   "source": [
    "## XGBoost"
   ]
  },
  {
   "cell_type": "code",
   "execution_count": 16,
   "id": "5e34c637",
   "metadata": {},
   "outputs": [
    {
     "data": {
      "text/plain": [
       "XGBRegressor(base_score=0.5, booster='gbtree', callbacks=None,\n",
       "             colsample_bylevel=1, colsample_bynode=1, colsample_bytree=1,\n",
       "             early_stopping_rounds=None, enable_categorical=False,\n",
       "             eval_metric=None, gamma=0, gpu_id=-1, grow_policy='depthwise',\n",
       "             importance_type=None, interaction_constraints='',\n",
       "             learning_rate=0.300000012, max_bin=256, max_cat_to_onehot=4,\n",
       "             max_delta_step=0, max_depth=6, max_leaves=0, min_child_weight=1,\n",
       "             missing=nan, monotone_constraints='()', n_estimators=100, n_jobs=0,\n",
       "             num_parallel_tree=1, predictor='auto', random_state=42,\n",
       "             reg_alpha=0, reg_lambda=1, ...)"
      ]
     },
     "execution_count": 16,
     "metadata": {},
     "output_type": "execute_result"
    },
    {
     "name": "stdout",
     "output_type": "stream",
     "text": [
      "12.17\n"
     ]
    },
    {
     "data": {
      "text/html": [
       "<div>\n",
       "<style scoped>\n",
       "    .dataframe tbody tr th:only-of-type {\n",
       "        vertical-align: middle;\n",
       "    }\n",
       "\n",
       "    .dataframe tbody tr th {\n",
       "        vertical-align: top;\n",
       "    }\n",
       "\n",
       "    .dataframe thead th {\n",
       "        text-align: right;\n",
       "    }\n",
       "</style>\n",
       "<table border=\"1\" class=\"dataframe\">\n",
       "  <thead>\n",
       "    <tr style=\"text-align: right;\">\n",
       "      <th></th>\n",
       "      <th>true</th>\n",
       "      <th>prediction</th>\n",
       "      <th>diff</th>\n",
       "    </tr>\n",
       "  </thead>\n",
       "  <tbody>\n",
       "    <tr>\n",
       "      <th>26</th>\n",
       "      <td>100</td>\n",
       "      <td>66.609558</td>\n",
       "      <td>33.390442</td>\n",
       "    </tr>\n",
       "    <tr>\n",
       "      <th>36</th>\n",
       "      <td>84</td>\n",
       "      <td>59.797592</td>\n",
       "      <td>24.202408</td>\n",
       "    </tr>\n",
       "    <tr>\n",
       "      <th>64</th>\n",
       "      <td>56</td>\n",
       "      <td>79.140701</td>\n",
       "      <td>23.140701</td>\n",
       "    </tr>\n",
       "    <tr>\n",
       "      <th>13</th>\n",
       "      <td>53</td>\n",
       "      <td>73.296059</td>\n",
       "      <td>20.296059</td>\n",
       "    </tr>\n",
       "    <tr>\n",
       "      <th>59</th>\n",
       "      <td>97</td>\n",
       "      <td>76.779999</td>\n",
       "      <td>20.220001</td>\n",
       "    </tr>\n",
       "    <tr>\n",
       "      <th>18</th>\n",
       "      <td>50</td>\n",
       "      <td>68.705338</td>\n",
       "      <td>18.705338</td>\n",
       "    </tr>\n",
       "    <tr>\n",
       "      <th>41</th>\n",
       "      <td>105</td>\n",
       "      <td>86.475693</td>\n",
       "      <td>18.524307</td>\n",
       "    </tr>\n",
       "    <tr>\n",
       "      <th>17</th>\n",
       "      <td>51</td>\n",
       "      <td>69.342911</td>\n",
       "      <td>18.342911</td>\n",
       "    </tr>\n",
       "    <tr>\n",
       "      <th>10</th>\n",
       "      <td>78</td>\n",
       "      <td>60.005642</td>\n",
       "      <td>17.994358</td>\n",
       "    </tr>\n",
       "    <tr>\n",
       "      <th>47</th>\n",
       "      <td>91</td>\n",
       "      <td>73.185051</td>\n",
       "      <td>17.814949</td>\n",
       "    </tr>\n",
       "  </tbody>\n",
       "</table>\n",
       "</div>"
      ],
      "text/plain": [
       "    true  prediction       diff\n",
       "26   100   66.609558  33.390442\n",
       "36    84   59.797592  24.202408\n",
       "64    56   79.140701  23.140701\n",
       "13    53   73.296059  20.296059\n",
       "59    97   76.779999  20.220001\n",
       "18    50   68.705338  18.705338\n",
       "41   105   86.475693  18.524307\n",
       "17    51   69.342911  18.342911\n",
       "10    78   60.005642  17.994358\n",
       "47    91   73.185051  17.814949"
      ]
     },
     "execution_count": 16,
     "metadata": {},
     "output_type": "execute_result"
    }
   ],
   "source": [
    "xgb_model = XGBRegressor(random_state=hp_seed)\n",
    "xgb_model.fit(X_train, Y_train.to_numpy().ravel())\n",
    "Y_pred = xgb_model.predict(X_test)\n",
    "\n",
    "rdf, rmse = process_pred(Y_test, Y_pred)\n",
    "print(rmse)\n",
    "rdf.head(10)"
   ]
  },
  {
   "cell_type": "markdown",
   "id": "9a4f8ef0-76f8-4b7e-b892-308b5e7b996e",
   "metadata": {},
   "source": [
    "## LGBM"
   ]
  },
  {
   "cell_type": "code",
   "execution_count": 17,
   "id": "740eb63a",
   "metadata": {},
   "outputs": [
    {
     "data": {
      "text/plain": [
       "LGBMRegressor(random_state=42)"
      ]
     },
     "execution_count": 17,
     "metadata": {},
     "output_type": "execute_result"
    },
    {
     "name": "stdout",
     "output_type": "stream",
     "text": [
      "10.56\n"
     ]
    },
    {
     "data": {
      "text/html": [
       "<div>\n",
       "<style scoped>\n",
       "    .dataframe tbody tr th:only-of-type {\n",
       "        vertical-align: middle;\n",
       "    }\n",
       "\n",
       "    .dataframe tbody tr th {\n",
       "        vertical-align: top;\n",
       "    }\n",
       "\n",
       "    .dataframe thead th {\n",
       "        text-align: right;\n",
       "    }\n",
       "</style>\n",
       "<table border=\"1\" class=\"dataframe\">\n",
       "  <thead>\n",
       "    <tr style=\"text-align: right;\">\n",
       "      <th></th>\n",
       "      <th>true</th>\n",
       "      <th>prediction</th>\n",
       "      <th>diff</th>\n",
       "    </tr>\n",
       "  </thead>\n",
       "  <tbody>\n",
       "    <tr>\n",
       "      <th>26</th>\n",
       "      <td>100</td>\n",
       "      <td>61.692235</td>\n",
       "      <td>38.307765</td>\n",
       "    </tr>\n",
       "    <tr>\n",
       "      <th>47</th>\n",
       "      <td>91</td>\n",
       "      <td>69.950645</td>\n",
       "      <td>21.049355</td>\n",
       "    </tr>\n",
       "    <tr>\n",
       "      <th>43</th>\n",
       "      <td>60</td>\n",
       "      <td>78.595125</td>\n",
       "      <td>18.595125</td>\n",
       "    </tr>\n",
       "    <tr>\n",
       "      <th>37</th>\n",
       "      <td>55</td>\n",
       "      <td>73.559969</td>\n",
       "      <td>18.559969</td>\n",
       "    </tr>\n",
       "    <tr>\n",
       "      <th>41</th>\n",
       "      <td>105</td>\n",
       "      <td>86.641456</td>\n",
       "      <td>18.358544</td>\n",
       "    </tr>\n",
       "    <tr>\n",
       "      <th>63</th>\n",
       "      <td>87</td>\n",
       "      <td>69.595272</td>\n",
       "      <td>17.404728</td>\n",
       "    </tr>\n",
       "    <tr>\n",
       "      <th>23</th>\n",
       "      <td>91</td>\n",
       "      <td>74.796900</td>\n",
       "      <td>16.203100</td>\n",
       "    </tr>\n",
       "    <tr>\n",
       "      <th>59</th>\n",
       "      <td>97</td>\n",
       "      <td>80.813263</td>\n",
       "      <td>16.186737</td>\n",
       "    </tr>\n",
       "    <tr>\n",
       "      <th>22</th>\n",
       "      <td>47</td>\n",
       "      <td>63.033873</td>\n",
       "      <td>16.033873</td>\n",
       "    </tr>\n",
       "    <tr>\n",
       "      <th>57</th>\n",
       "      <td>65</td>\n",
       "      <td>50.011238</td>\n",
       "      <td>14.988762</td>\n",
       "    </tr>\n",
       "  </tbody>\n",
       "</table>\n",
       "</div>"
      ],
      "text/plain": [
       "    true  prediction       diff\n",
       "26   100   61.692235  38.307765\n",
       "47    91   69.950645  21.049355\n",
       "43    60   78.595125  18.595125\n",
       "37    55   73.559969  18.559969\n",
       "41   105   86.641456  18.358544\n",
       "63    87   69.595272  17.404728\n",
       "23    91   74.796900  16.203100\n",
       "59    97   80.813263  16.186737\n",
       "22    47   63.033873  16.033873\n",
       "57    65   50.011238  14.988762"
      ]
     },
     "execution_count": 17,
     "metadata": {},
     "output_type": "execute_result"
    }
   ],
   "source": [
    "lgbm_model = LGBMRegressor(random_state=hp_seed)\n",
    "lgbm_model.fit(X_train, Y_train.to_numpy().ravel())\n",
    "Y_pred = lgbm_model.predict(X_test)\n",
    "\n",
    "rdf, rmse = process_pred(Y_test, Y_pred)\n",
    "print(rmse)\n",
    "rdf.head(10)"
   ]
  }
 ],
 "metadata": {
  "kernelspec": {
   "display_name": "Python 3 (ipykernel)",
   "language": "python",
   "name": "python3"
  },
  "language_info": {
   "codemirror_mode": {
    "name": "ipython",
    "version": 3
   },
   "file_extension": ".py",
   "mimetype": "text/x-python",
   "name": "python",
   "nbconvert_exporter": "python",
   "pygments_lexer": "ipython3",
   "version": "3.10.4"
  }
 },
 "nbformat": 4,
 "nbformat_minor": 5
}

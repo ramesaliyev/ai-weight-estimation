{
 "cells": [
  {
   "cell_type": "markdown",
   "id": "7a3052c4-725f-4b95-b79b-32e1af3ee976",
   "metadata": {},
   "source": [
    "# Setup"
   ]
  },
  {
   "cell_type": "markdown",
   "id": "75ebfff6-efd7-414c-97b4-fae71057548e",
   "metadata": {},
   "source": [
    "### Initial tasks"
   ]
  },
  {
   "cell_type": "code",
   "execution_count": 1,
   "id": "18fbf0fe-b976-44ec-b99b-91197212f02e",
   "metadata": {},
   "outputs": [],
   "source": [
    "from IPython.core.interactiveshell import InteractiveShell\n",
    "InteractiveShell.ast_node_interactivity = \"all\""
   ]
  },
  {
   "cell_type": "markdown",
   "id": "12acbdb6-f23f-4305-85d4-e51b5a97a6ac",
   "metadata": {},
   "source": [
    "### Imports"
   ]
  },
  {
   "cell_type": "code",
   "execution_count": 36,
   "id": "647f85c0-05f5-440f-838a-7b3b3ee58d34",
   "metadata": {},
   "outputs": [],
   "source": [
    "# built-ins\n",
    "import os\n",
    "import json\n",
    "from os import path\n",
    "\n",
    "# common\n",
    "import pandas as pd\n",
    "import numpy as np\n",
    "\n",
    "# preprocessing\n",
    "from sklearn.model_selection import train_test_split\n",
    "from sklearn import preprocessing\n",
    "\n",
    "# metrics\n",
    "from sklearn.metrics import confusion_matrix, accuracy_score, classification_report\n",
    "\n",
    "# training\n",
    "from sklearn.linear_model import LinearRegression"
   ]
  },
  {
   "cell_type": "code",
   "execution_count": 3,
   "id": "071cf6ed-546c-4733-94fd-92e4d928350a",
   "metadata": {},
   "outputs": [
    {
     "data": {
      "text/plain": [
       "'\\nimport seaborn as sns \\nfrom sklearn.ensemble import RandomForestClassifier\\n\\nfrom lightgbm import LGBMClassifier\\nfrom sklearn.linear_model import LogisticRegression\\nfrom sklearn.model_selection import cross_val_score\\n'"
      ]
     },
     "execution_count": 3,
     "metadata": {},
     "output_type": "execute_result"
    }
   ],
   "source": [
    "'''\n",
    "import seaborn as sns \n",
    "from sklearn.ensemble import RandomForestClassifier\n",
    "\n",
    "from lightgbm import LGBMClassifier\n",
    "from sklearn.linear_model import LogisticRegression\n",
    "from sklearn.model_selection import cross_val_score\n",
    "'''"
   ]
  },
  {
   "cell_type": "markdown",
   "id": "ee0c9b13-2a8f-4240-9c7a-b301a9217866",
   "metadata": {},
   "source": [
    "### Utils / Helpers"
   ]
  },
  {
   "cell_type": "code",
   "execution_count": 4,
   "id": "8a04a271-955f-4c00-8100-908e2c767bdf",
   "metadata": {},
   "outputs": [],
   "source": [
    "def load_json(path):\n",
    "    with open(path) as f:\n",
    "        return json.load(f)"
   ]
  },
  {
   "cell_type": "markdown",
   "id": "0dbcc258-85f8-4c69-a9d5-9d7ca970e252",
   "metadata": {},
   "source": [
    "### Path Definitions"
   ]
  },
  {
   "cell_type": "code",
   "execution_count": 5,
   "id": "e47b0b0c-f9d8-4942-9313-97f9e6ac8d46",
   "metadata": {},
   "outputs": [],
   "source": [
    "root = path.abspath(os.getcwd())\n",
    "dataset_root = path.join(root, 'dataset')"
   ]
  },
  {
   "cell_type": "markdown",
   "id": "6bb57960-511e-42fa-ba52-a124dab8f762",
   "metadata": {},
   "source": [
    "# Read Dataset"
   ]
  },
  {
   "cell_type": "code",
   "execution_count": 6,
   "id": "ab0cdfef-706d-453e-8614-1b631959acce",
   "metadata": {},
   "outputs": [],
   "source": [
    "def map_employement_duration(entry):\n",
    "    entry = str(entry).lower()\n",
    "    split = entry.split(' ')\n",
    "    num = split[0]\n",
    "    output = entry\n",
    "    \n",
    "    if \"-\" in num:\n",
    "        num = num.split(\"-\")[1]\n",
    "    \n",
    "    if \"weeks\" in entry:\n",
    "        output = float(num) / 52\n",
    "    elif (\"month\" in entry) or (\"ay\" in entry):\n",
    "        output = float(num) / 12\n",
    "    elif (\"years\" in entry) or (\"sene\" in entry) or (\"yıl\" in entry):\n",
    "        output = float(num)\n",
    "    else:\n",
    "        try:\n",
    "            output = float(num)\n",
    "        except:\n",
    "            output = 0\n",
    "        \n",
    "    output = round(output, 3)\n",
    "    return output"
   ]
  },
  {
   "cell_type": "code",
   "execution_count": 7,
   "id": "b1302718-b6f8-4844-af3d-0e336cadffc2",
   "metadata": {},
   "outputs": [
    {
     "name": "stdout",
     "output_type": "stream",
     "text": [
      "<class 'pandas.core.frame.DataFrame'>\n",
      "Int64Index: 323 entries, 0 to 310\n",
      "Data columns (total 12 columns):\n",
      " #   Column               Non-Null Count  Dtype  \n",
      "---  ------               --------------  -----  \n",
      " 0   age                  323 non-null    int64  \n",
      " 1   height               323 non-null    int64  \n",
      " 2   weight               323 non-null    int64  \n",
      " 3   gender               323 non-null    int64  \n",
      " 4   smoking              323 non-null    int64  \n",
      " 5   drinking             323 non-null    int64  \n",
      " 6   exercise             323 non-null    int64  \n",
      " 7   married              323 non-null    int64  \n",
      " 8   children             323 non-null    int64  \n",
      " 9   student              323 non-null    int64  \n",
      " 10  employed             323 non-null    int64  \n",
      " 11  employment_duration  323 non-null    float64\n",
      "dtypes: float64(1), int64(11)\n",
      "memory usage: 32.8 KB\n"
     ]
    }
   ],
   "source": [
    "# read encodings\n",
    "encodings = load_json(path.join(dataset_root, 'encodings.json'))\n",
    "\n",
    "# read csvs\n",
    "csv_en = pd.read_csv(path.join(dataset_root, 'csv/english.csv'), dtype=str)\n",
    "csv_tr = pd.read_csv(path.join(dataset_root, 'csv/turkish.csv'), dtype=str)\n",
    "\n",
    "# drop columns\n",
    "csv_en.drop('Timestamp', axis=1, inplace=True)\n",
    "csv_tr.drop('Timestamp', axis=1, inplace=True)\n",
    "\n",
    "# rename columns\n",
    "csv_en.rename(columns=encodings['columns']['en'], inplace=True)\n",
    "csv_tr.rename(columns=encodings['columns']['tr'], inplace=True)\n",
    "\n",
    "# encode columns\n",
    "csv_en.replace(encodings['values']['en'], inplace=True)\n",
    "csv_tr.replace(encodings['values']['tr'], inplace=True)\n",
    "\n",
    "# concat csvs\n",
    "df = pd.concat([csv_en, csv_tr], axis=0)\n",
    "\n",
    "# fix NaNs\n",
    "df.fillna(0, inplace=True)\n",
    "\n",
    "# convert types\n",
    "df['age'] = df['age'].apply(lambda x: int(x))\n",
    "df['weight'] = df['weight'].apply(lambda x: int(float(x.replace(',', '.'))))\n",
    "df['height'] = df['height'].apply(lambda x: int(x.translate({ord(x): '' for x in [',', '.', ' ']})))\n",
    "df['employment_duration'] = df['employment_duration'].apply(map_employement_duration)\n",
    "\n",
    "# save csv\n",
    "df.to_csv(path.join(dataset_root, 'csv/data.csv'), index=None, header=True, encoding='utf-8-sig')\n",
    "df.info()"
   ]
  },
  {
   "cell_type": "markdown",
   "id": "07786960-b3a0-4966-a6fe-c37ece2351e3",
   "metadata": {},
   "source": [
    "# Explatory Data Analysis"
   ]
  },
  {
   "cell_type": "code",
   "execution_count": null,
   "id": "1cfdda0a-cbf6-4921-aa74-5c7be52b17e4",
   "metadata": {},
   "outputs": [],
   "source": []
  },
  {
   "cell_type": "markdown",
   "id": "44e5f02f-c09d-4a3e-bfdf-69e006d8bdc2",
   "metadata": {},
   "source": [
    "# Hyperparameters"
   ]
  },
  {
   "cell_type": "code",
   "execution_count": 8,
   "id": "4546a359-7cd8-4e20-89a5-5b624e9e7b6f",
   "metadata": {},
   "outputs": [],
   "source": [
    "hp_test_size = 0.2\n",
    "hp_val_size = 0.1\n",
    "hp_split_seed = 42"
   ]
  },
  {
   "cell_type": "markdown",
   "id": "fcd8004a-7cca-4577-a73f-81f5115417e2",
   "metadata": {
    "tags": []
   },
   "source": [
    "# Preprocessing"
   ]
  },
  {
   "cell_type": "markdown",
   "id": "df61e293-874c-41eb-8796-47558b577b69",
   "metadata": {},
   "source": [
    "### Helpers"
   ]
  },
  {
   "cell_type": "code",
   "execution_count": 9,
   "id": "cd5477bf-9284-45d6-af34-2e4bba185215",
   "metadata": {},
   "outputs": [],
   "source": [
    "def remove_outliers(dframe, columns):\n",
    "    for column in columns:\n",
    "        Q1 = dframe[column].quantile(0.25)\n",
    "        Q3 = dframe[column].quantile(0.75)\n",
    "        IQR = Q3 - Q1\n",
    "        lower_band = Q1 - 1.5*IQR\n",
    "        upper_band = Q3 + 1.5*IQR\n",
    "        \n",
    "        normals = ~((dframe[column] < lower_band) | (dframe[column] > upper_band))\n",
    "        dframe = dframe.loc[normals]\n",
    "    \n",
    "    return dframe"
   ]
  },
  {
   "cell_type": "markdown",
   "id": "39668ac3-aeff-4d72-be50-49773b43c2dd",
   "metadata": {},
   "source": [
    "### Pipeline"
   ]
  },
  {
   "cell_type": "code",
   "execution_count": 36,
   "id": "ef9639b3-473a-4563-9b30-82299c57930f",
   "metadata": {},
   "outputs": [
    {
     "name": "stdout",
     "output_type": "stream",
     "text": [
      "(206, 12)\n"
     ]
    }
   ],
   "source": [
    "# Split into test, val and train.\n",
    "rest_df, test_df = train_test_split(df, test_size=hp_test_size, random_state=hp_split_seed)\n",
    "train_df, val_df = train_test_split(rest_df, test_size=hp_val_size, random_state=hp_split_seed)\n",
    "\n",
    "# Remove outliers from train.\n",
    "train_df = remove_outliers(train_df, ['age', 'height', 'weight'])\n",
    "print(train_df.shape)\n",
    "\n",
    "# Apply standardization\n",
    "cols = ['age', 'height', 'employment_duration']\n",
    "std_scaler = preprocessing.StandardScaler().fit(train_df[cols])\n",
    "test_df[cols] = std_scaler.transform(test_df[cols])\n",
    "val_df[cols] = std_scaler.transform(val_df[cols])\n",
    "train_df[cols] = std_scaler.transform(train_df[cols])\n",
    "\n",
    "# Separate data and labels.\n",
    "X_test, Y_test = test_df.drop('weight', axis=1), test_df['weight'].to_frame()\n",
    "X_val, Y_val = val_df.drop('weight', axis=1), val_df['weight'].to_frame()\n",
    "X_train, Y_train = train_df.drop('weight', axis=1), train_df['weight'].to_frame()"
   ]
  },
  {
   "cell_type": "markdown",
   "id": "0f307799-3b1c-4d81-994c-6f090c0e7b6d",
   "metadata": {},
   "source": [
    "# Training"
   ]
  },
  {
   "cell_type": "markdown",
   "id": "a905e157-4c37-4da9-86d4-10cdeca80115",
   "metadata": {},
   "source": [
    "### Helpers"
   ]
  },
  {
   "cell_type": "code",
   "execution_count": 47,
   "id": "6fe163f8-ea4d-4ff6-bf8b-95b1ce93aea6",
   "metadata": {},
   "outputs": [],
   "source": [
    "def create_pred_df(true, pred):\n",
    "    if type(true) is pd.DataFrame:\n",
    "        true = true.to_numpy()\n",
    "        \n",
    "    if type(pred) is pd.DataFrame:\n",
    "        pred = pred.to_numpy()\n",
    "        \n",
    "    return pd.DataFrame(data={\n",
    "        'true': true.reshape(-1),\n",
    "        'prediction': pred.reshape(-1)\n",
    "    })"
   ]
  },
  {
   "cell_type": "markdown",
   "id": "6ce6e6df-55ef-485c-bd07-82f410301235",
   "metadata": {},
   "source": [
    "## Linear Regression"
   ]
  },
  {
   "cell_type": "code",
   "execution_count": 46,
   "id": "405fdfb1-113d-45a2-86c7-158695f06b86",
   "metadata": {},
   "outputs": [
    {
     "data": {
      "text/plain": [
       "0.38718719283026737"
      ]
     },
     "execution_count": 46,
     "metadata": {},
     "output_type": "execute_result"
    },
    {
     "data": {
      "text/html": [
       "<div>\n",
       "<style scoped>\n",
       "    .dataframe tbody tr th:only-of-type {\n",
       "        vertical-align: middle;\n",
       "    }\n",
       "\n",
       "    .dataframe tbody tr th {\n",
       "        vertical-align: top;\n",
       "    }\n",
       "\n",
       "    .dataframe thead th {\n",
       "        text-align: right;\n",
       "    }\n",
       "</style>\n",
       "<table border=\"1\" class=\"dataframe\">\n",
       "  <thead>\n",
       "    <tr style=\"text-align: right;\">\n",
       "      <th></th>\n",
       "      <th>true</th>\n",
       "      <th>prediction</th>\n",
       "    </tr>\n",
       "  </thead>\n",
       "  <tbody>\n",
       "    <tr>\n",
       "      <th>0</th>\n",
       "      <td>65</td>\n",
       "      <td>69.219688</td>\n",
       "    </tr>\n",
       "    <tr>\n",
       "      <th>1</th>\n",
       "      <td>71</td>\n",
       "      <td>75.767980</td>\n",
       "    </tr>\n",
       "    <tr>\n",
       "      <th>2</th>\n",
       "      <td>82</td>\n",
       "      <td>91.980959</td>\n",
       "    </tr>\n",
       "    <tr>\n",
       "      <th>3</th>\n",
       "      <td>73</td>\n",
       "      <td>66.138671</td>\n",
       "    </tr>\n",
       "    <tr>\n",
       "      <th>4</th>\n",
       "      <td>62</td>\n",
       "      <td>67.810096</td>\n",
       "    </tr>\n",
       "    <tr>\n",
       "      <th>5</th>\n",
       "      <td>76</td>\n",
       "      <td>72.753085</td>\n",
       "    </tr>\n",
       "    <tr>\n",
       "      <th>6</th>\n",
       "      <td>54</td>\n",
       "      <td>71.929837</td>\n",
       "    </tr>\n",
       "    <tr>\n",
       "      <th>7</th>\n",
       "      <td>74</td>\n",
       "      <td>77.220020</td>\n",
       "    </tr>\n",
       "    <tr>\n",
       "      <th>8</th>\n",
       "      <td>88</td>\n",
       "      <td>74.905459</td>\n",
       "    </tr>\n",
       "    <tr>\n",
       "      <th>9</th>\n",
       "      <td>74</td>\n",
       "      <td>83.311389</td>\n",
       "    </tr>\n",
       "  </tbody>\n",
       "</table>\n",
       "</div>"
      ],
      "text/plain": [
       "   true  prediction\n",
       "0    65   69.219688\n",
       "1    71   75.767980\n",
       "2    82   91.980959\n",
       "3    73   66.138671\n",
       "4    62   67.810096\n",
       "5    76   72.753085\n",
       "6    54   71.929837\n",
       "7    74   77.220020\n",
       "8    88   74.905459\n",
       "9    74   83.311389"
      ]
     },
     "execution_count": 46,
     "metadata": {},
     "output_type": "execute_result"
    }
   ],
   "source": [
    "reg = LinearRegression().fit(X_train, Y_train)\n",
    "reg.score(X_train, Y_train)\n",
    "Y_pred = reg.predict(X_test)\n",
    "\n",
    "create_pred_df(Y_test, Y_pred).head(10)"
   ]
  }
 ],
 "metadata": {
  "kernelspec": {
   "display_name": "Python 3 (ipykernel)",
   "language": "python",
   "name": "python3"
  },
  "language_info": {
   "codemirror_mode": {
    "name": "ipython",
    "version": 3
   },
   "file_extension": ".py",
   "mimetype": "text/x-python",
   "name": "python",
   "nbconvert_exporter": "python",
   "pygments_lexer": "ipython3",
   "version": "3.10.4"
  }
 },
 "nbformat": 4,
 "nbformat_minor": 5
}
